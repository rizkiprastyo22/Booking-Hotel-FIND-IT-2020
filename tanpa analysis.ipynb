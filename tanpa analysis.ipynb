{
 "cells": [
  {
   "cell_type": "markdown",
   "metadata": {},
   "source": [
    "# Import Libraries and Datas"
   ]
  },
  {
   "cell_type": "code",
   "execution_count": 1,
   "metadata": {},
   "outputs": [],
   "source": [
    "import numpy as np\n",
    "import pandas as pd\n",
    "import matplotlib.pyplot as plt\n",
    "import seaborn as sns\n",
    "%matplotlib inline"
   ]
  },
  {
   "cell_type": "code",
   "execution_count": 2,
   "metadata": {},
   "outputs": [],
   "source": [
    "train = pd.read_csv('hotel_bookings.csv')"
   ]
  },
  {
   "cell_type": "code",
   "execution_count": 3,
   "metadata": {},
   "outputs": [
    {
     "data": {
      "text/html": [
       "<div>\n",
       "<style scoped>\n",
       "    .dataframe tbody tr th:only-of-type {\n",
       "        vertical-align: middle;\n",
       "    }\n",
       "\n",
       "    .dataframe tbody tr th {\n",
       "        vertical-align: top;\n",
       "    }\n",
       "\n",
       "    .dataframe thead th {\n",
       "        text-align: right;\n",
       "    }\n",
       "</style>\n",
       "<table border=\"1\" class=\"dataframe\">\n",
       "  <thead>\n",
       "    <tr style=\"text-align: right;\">\n",
       "      <th></th>\n",
       "      <th>hotel</th>\n",
       "      <th>is_canceled</th>\n",
       "      <th>lead_time</th>\n",
       "      <th>arrival_date_year</th>\n",
       "      <th>arrival_date_month</th>\n",
       "      <th>arrival_date_week_number</th>\n",
       "      <th>arrival_date_day_of_month</th>\n",
       "      <th>stays_in_weekend_nights</th>\n",
       "      <th>stays_in_week_nights</th>\n",
       "      <th>adults</th>\n",
       "      <th>...</th>\n",
       "      <th>deposit_type</th>\n",
       "      <th>agent</th>\n",
       "      <th>company</th>\n",
       "      <th>days_in_waiting_list</th>\n",
       "      <th>customer_type</th>\n",
       "      <th>adr</th>\n",
       "      <th>required_car_parking_spaces</th>\n",
       "      <th>total_of_special_requests</th>\n",
       "      <th>reservation_status</th>\n",
       "      <th>reservation_status_date</th>\n",
       "    </tr>\n",
       "  </thead>\n",
       "  <tbody>\n",
       "    <tr>\n",
       "      <th>0</th>\n",
       "      <td>Resort Hotel</td>\n",
       "      <td>0</td>\n",
       "      <td>342</td>\n",
       "      <td>2015</td>\n",
       "      <td>July</td>\n",
       "      <td>27</td>\n",
       "      <td>1</td>\n",
       "      <td>0</td>\n",
       "      <td>0</td>\n",
       "      <td>2</td>\n",
       "      <td>...</td>\n",
       "      <td>No Deposit</td>\n",
       "      <td>NaN</td>\n",
       "      <td>NaN</td>\n",
       "      <td>0</td>\n",
       "      <td>Transient</td>\n",
       "      <td>0.0</td>\n",
       "      <td>0</td>\n",
       "      <td>0</td>\n",
       "      <td>Check-Out</td>\n",
       "      <td>2015-07-01</td>\n",
       "    </tr>\n",
       "    <tr>\n",
       "      <th>1</th>\n",
       "      <td>Resort Hotel</td>\n",
       "      <td>0</td>\n",
       "      <td>737</td>\n",
       "      <td>2015</td>\n",
       "      <td>July</td>\n",
       "      <td>27</td>\n",
       "      <td>1</td>\n",
       "      <td>0</td>\n",
       "      <td>0</td>\n",
       "      <td>2</td>\n",
       "      <td>...</td>\n",
       "      <td>No Deposit</td>\n",
       "      <td>NaN</td>\n",
       "      <td>NaN</td>\n",
       "      <td>0</td>\n",
       "      <td>Transient</td>\n",
       "      <td>0.0</td>\n",
       "      <td>0</td>\n",
       "      <td>0</td>\n",
       "      <td>Check-Out</td>\n",
       "      <td>2015-07-01</td>\n",
       "    </tr>\n",
       "    <tr>\n",
       "      <th>2</th>\n",
       "      <td>Resort Hotel</td>\n",
       "      <td>0</td>\n",
       "      <td>7</td>\n",
       "      <td>2015</td>\n",
       "      <td>July</td>\n",
       "      <td>27</td>\n",
       "      <td>1</td>\n",
       "      <td>0</td>\n",
       "      <td>1</td>\n",
       "      <td>1</td>\n",
       "      <td>...</td>\n",
       "      <td>No Deposit</td>\n",
       "      <td>NaN</td>\n",
       "      <td>NaN</td>\n",
       "      <td>0</td>\n",
       "      <td>Transient</td>\n",
       "      <td>75.0</td>\n",
       "      <td>0</td>\n",
       "      <td>0</td>\n",
       "      <td>Check-Out</td>\n",
       "      <td>2015-07-02</td>\n",
       "    </tr>\n",
       "    <tr>\n",
       "      <th>3</th>\n",
       "      <td>Resort Hotel</td>\n",
       "      <td>0</td>\n",
       "      <td>13</td>\n",
       "      <td>2015</td>\n",
       "      <td>July</td>\n",
       "      <td>27</td>\n",
       "      <td>1</td>\n",
       "      <td>0</td>\n",
       "      <td>1</td>\n",
       "      <td>1</td>\n",
       "      <td>...</td>\n",
       "      <td>No Deposit</td>\n",
       "      <td>304.0</td>\n",
       "      <td>NaN</td>\n",
       "      <td>0</td>\n",
       "      <td>Transient</td>\n",
       "      <td>75.0</td>\n",
       "      <td>0</td>\n",
       "      <td>0</td>\n",
       "      <td>Check-Out</td>\n",
       "      <td>2015-07-02</td>\n",
       "    </tr>\n",
       "    <tr>\n",
       "      <th>4</th>\n",
       "      <td>Resort Hotel</td>\n",
       "      <td>0</td>\n",
       "      <td>14</td>\n",
       "      <td>2015</td>\n",
       "      <td>July</td>\n",
       "      <td>27</td>\n",
       "      <td>1</td>\n",
       "      <td>0</td>\n",
       "      <td>2</td>\n",
       "      <td>2</td>\n",
       "      <td>...</td>\n",
       "      <td>No Deposit</td>\n",
       "      <td>240.0</td>\n",
       "      <td>NaN</td>\n",
       "      <td>0</td>\n",
       "      <td>Transient</td>\n",
       "      <td>98.0</td>\n",
       "      <td>0</td>\n",
       "      <td>1</td>\n",
       "      <td>Check-Out</td>\n",
       "      <td>2015-07-03</td>\n",
       "    </tr>\n",
       "  </tbody>\n",
       "</table>\n",
       "<p>5 rows × 32 columns</p>\n",
       "</div>"
      ],
      "text/plain": [
       "          hotel  is_canceled  lead_time  arrival_date_year arrival_date_month  \\\n",
       "0  Resort Hotel            0        342               2015               July   \n",
       "1  Resort Hotel            0        737               2015               July   \n",
       "2  Resort Hotel            0          7               2015               July   \n",
       "3  Resort Hotel            0         13               2015               July   \n",
       "4  Resort Hotel            0         14               2015               July   \n",
       "\n",
       "   arrival_date_week_number  arrival_date_day_of_month  \\\n",
       "0                        27                          1   \n",
       "1                        27                          1   \n",
       "2                        27                          1   \n",
       "3                        27                          1   \n",
       "4                        27                          1   \n",
       "\n",
       "   stays_in_weekend_nights  stays_in_week_nights  adults  ...  deposit_type  \\\n",
       "0                        0                     0       2  ...    No Deposit   \n",
       "1                        0                     0       2  ...    No Deposit   \n",
       "2                        0                     1       1  ...    No Deposit   \n",
       "3                        0                     1       1  ...    No Deposit   \n",
       "4                        0                     2       2  ...    No Deposit   \n",
       "\n",
       "   agent company days_in_waiting_list customer_type   adr  \\\n",
       "0    NaN     NaN                    0     Transient   0.0   \n",
       "1    NaN     NaN                    0     Transient   0.0   \n",
       "2    NaN     NaN                    0     Transient  75.0   \n",
       "3  304.0     NaN                    0     Transient  75.0   \n",
       "4  240.0     NaN                    0     Transient  98.0   \n",
       "\n",
       "   required_car_parking_spaces  total_of_special_requests  reservation_status  \\\n",
       "0                            0                          0           Check-Out   \n",
       "1                            0                          0           Check-Out   \n",
       "2                            0                          0           Check-Out   \n",
       "3                            0                          0           Check-Out   \n",
       "4                            0                          1           Check-Out   \n",
       "\n",
       "  reservation_status_date  \n",
       "0              2015-07-01  \n",
       "1              2015-07-01  \n",
       "2              2015-07-02  \n",
       "3              2015-07-02  \n",
       "4              2015-07-03  \n",
       "\n",
       "[5 rows x 32 columns]"
      ]
     },
     "execution_count": 3,
     "metadata": {},
     "output_type": "execute_result"
    }
   ],
   "source": [
    "train.head()"
   ]
  },
  {
   "cell_type": "markdown",
   "metadata": {},
   "source": [
    "# Data Analysis"
   ]
  },
  {
   "cell_type": "code",
   "execution_count": 4,
   "metadata": {},
   "outputs": [
    {
     "data": {
      "text/plain": [
       "<matplotlib.axes._subplots.AxesSubplot at 0x122698c5dd8>"
      ]
     },
     "execution_count": 4,
     "metadata": {},
     "output_type": "execute_result"
    },
    {
     "data": {
      "image/png": "[encoded data removed]",
      "text/plain": [
       "<Figure size 1800x576 with 2 Axes>"
      ]
     },
     "metadata": {
      "needs_background": "light"
     },
     "output_type": "display_data"
    }
   ],
   "source": [
    "plt.figure(figsize=(25,8))\n",
    "plt.title('Data kosong berdasarkan baris')\n",
    "sns.heatmap(data=train.isnull(),cmap='viridis')"
   ]
  },
  {
   "cell_type": "code",
   "execution_count": 22,
   "metadata": {},
   "outputs": [
    {
     "name": "stdout",
     "output_type": "stream",
     "text": [
      "<class 'pandas.core.frame.DataFrame'>\n",
      "RangeIndex: 119390 entries, 0 to 119389\n",
      "Data columns (total 32 columns):\n",
      " #   Column                          Non-Null Count   Dtype  \n",
      "---  ------                          --------------   -----  \n",
      " 0   hotel                           119390 non-null  object \n",
      " 1   is_canceled                     119390 non-null  int64  \n",
      " 2   lead_time                       119390 non-null  int64  \n",
      " 3   arrival_date_year               119390 non-null  int64  \n",
      " 4   arrival_date_month              119390 non-null  object \n",
      " 5   arrival_date_week_number        119390 non-null  int64  \n",
      " 6   arrival_date_day_of_month       119390 non-null  int64  \n",
      " 7   stays_in_weekend_nights         119390 non-null  int64  \n",
      " 8   stays_in_week_nights            119390 non-null  int64  \n",
      " 9   adults                          119390 non-null  int64  \n",
      " 10  children                        119386 non-null  float64\n",
      " 11  babies                          119390 non-null  int64  \n",
      " 12  meal                            119390 non-null  object \n",
      " 13  country                         118902 non-null  object \n",
      " 14  market_segment                  119390 non-null  object \n",
      " 15  distribution_channel            119390 non-null  object \n",
      " 16  is_repeated_guest               119390 non-null  int64  \n",
      " 17  previous_cancellations          119390 non-null  int64  \n",
      " 18  previous_bookings_not_canceled  119390 non-null  int64  \n",
      " 19  reserved_room_type              119390 non-null  object \n",
      " 20  assigned_room_type              119390 non-null  object \n",
      " 21  booking_changes                 119390 non-null  int64  \n",
      " 22  deposit_type                    119390 non-null  object \n",
      " 23  agent                           103050 non-null  float64\n",
      " 24  company                         6797 non-null    float64\n",
      " 25  days_in_waiting_list            119390 non-null  int64  \n",
      " 26  customer_type                   119390 non-null  object \n",
      " 27  adr                             119390 non-null  float64\n",
      " 28  required_car_parking_spaces     119390 non-null  int64  \n",
      " 29  total_of_special_requests       119390 non-null  int64  \n",
      " 30  reservation_status              119390 non-null  object \n",
      " 31  reservation_status_date         119390 non-null  object \n",
      "dtypes: float64(4), int64(16), object(12)\n",
      "memory usage: 29.1+ MB\n"
     ]
    }
   ],
   "source": [
    "train.info()"
   ]
  },
  {
   "cell_type": "markdown",
   "metadata": {},
   "source": [
    "## 1. Banyak reservasi hotel"
   ]
  },
  {
   "cell_type": "code",
   "execution_count": 6,
   "metadata": {},
   "outputs": [
    {
     "data": {
      "text/plain": [
       "<matplotlib.axes._subplots.AxesSubplot at 0x19704000ef0>"
      ]
     },
     "execution_count": 6,
     "metadata": {},
     "output_type": "execute_result"
    },
    {
     "data": {
      "image/png": "[encoded data removed]",
      "text/plain": [
       "<Figure size 432x288 with 1 Axes>"
      ]
     },
     "metadata": {
      "needs_background": "light"
     },
     "output_type": "display_data"
    }
   ],
   "source": [
    "plt.title('Banyak pelanggan hotel')\n",
    "sns.countplot(x='hotel',data=train)"
   ]
  },
  {
   "cell_type": "code",
   "execution_count": 7,
   "metadata": {},
   "outputs": [
    {
     "name": "stdout",
     "output_type": "stream",
     "text": [
      "Banyak reservasi hotel:\n"
     ]
    },
    {
     "data": {
      "text/plain": [
       "City Hotel      79330\n",
       "Resort Hotel    40060\n",
       "Name: hotel, dtype: int64"
      ]
     },
     "execution_count": 7,
     "metadata": {},
     "output_type": "execute_result"
    }
   ],
   "source": [
    "print('Banyak reservasi hotel:')\n",
    "train['hotel'].value_counts()"
   ]
  },
  {
   "cell_type": "markdown",
   "metadata": {},
   "source": [
    "### Perbandingan tamu cancel/tidak berdasarkan hotel"
   ]
  },
  {
   "cell_type": "code",
   "execution_count": 3,
   "metadata": {},
   "outputs": [],
   "source": [
    "data_analisis = train.copy()"
   ]
  },
  {
   "cell_type": "code",
   "execution_count": 4,
   "metadata": {},
   "outputs": [],
   "source": [
    "def impute_canceled(cols):\n",
    "    is_canceled = cols[0]\n",
    "    hotel = cols[1]\n",
    "    \n",
    "    if is_canceled==0:\n",
    "        return 'Tamu Hotel'\n",
    "    else:\n",
    "        return 'Reservasi Batal'\n",
    "data_analisis['Reservasi']=data_analisis[['is_canceled','hotel']].apply(impute_canceled,axis=1)"
   ]
  },
  {
   "cell_type": "code",
   "execution_count": 11,
   "metadata": {},
   "outputs": [
    {
     "data": {
      "text/plain": [
       "<matplotlib.axes._subplots.AxesSubplot at 0x197038f6978>"
      ]
     },
     "execution_count": 11,
     "metadata": {},
     "output_type": "execute_result"
    },
    {
     "data": {
      "image/png": "[encoded data removed]",
      "text/plain": [
       "<Figure size 432x288 with 1 Axes>"
      ]
     },
     "metadata": {
      "needs_background": "light"
     },
     "output_type": "display_data"
    }
   ],
   "source": [
    "plt.title('Perbandingan tamu cancel/tidak berdasarkan hotel')\n",
    "sns.countplot(x='Reservasi', hue='hotel', data=data_analisis)"
   ]
  },
  {
   "cell_type": "code",
   "execution_count": 14,
   "metadata": {},
   "outputs": [
    {
     "name": "stdout",
     "output_type": "stream",
     "text": [
      "Banyak tamu hotel\n"
     ]
    },
    {
     "data": {
      "text/plain": [
       "City Hotel      46228\n",
       "Resort Hotel    28938\n",
       "Name: hotel, dtype: int64"
      ]
     },
     "execution_count": 14,
     "metadata": {},
     "output_type": "execute_result"
    }
   ],
   "source": [
    "print('Banyak tamu hotel')\n",
    "data_analisis[data_analisis['is_canceled']==0]['hotel'].value_counts()"
   ]
  },
  {
   "cell_type": "code",
   "execution_count": 15,
   "metadata": {},
   "outputs": [
    {
     "name": "stdout",
     "output_type": "stream",
     "text": [
      "Banyak pembatalan reservasi\n"
     ]
    },
    {
     "data": {
      "text/plain": [
       "City Hotel      33102\n",
       "Resort Hotel    11122\n",
       "Name: hotel, dtype: int64"
      ]
     },
     "execution_count": 15,
     "metadata": {},
     "output_type": "execute_result"
    }
   ],
   "source": [
    "print('Banyak pembatalan reservasi')\n",
    "data_analisis[data_analisis['is_canceled']==1]['hotel'].value_counts()"
   ]
  },
  {
   "cell_type": "code",
   "execution_count": 294,
   "metadata": {},
   "outputs": [
    {
     "name": "stdout",
     "output_type": "stream",
     "text": [
      "Sebanyak 41.73% reservasi untuk City Hotel dibatalkan, lebih tinggi daripada Resort Hotel (27.76%)\n"
     ]
    }
   ],
   "source": [
    "print('Sebanyak {:.2f}% reservasi untuk City Hotel dibatalkan, lebih tinggi daripada Resort Hotel ({:.2f}%)'.format(\n",
    "    (data_analisis[(data_analisis['hotel']=='City Hotel') & (data_analisis['is_canceled']==1)]['is_canceled'].count()*100/data_analisis[data_analisis['hotel']=='City Hotel']['is_canceled'].count()), \n",
    "    (data_analisis[(data_analisis['hotel']=='Resort Hotel') & (data_analisis['is_canceled']==1)]['is_canceled'].count())*100/data_analisis[data_analisis['hotel']=='Resort Hotel']['is_canceled'].count()))"
   ]
  },
  {
   "cell_type": "code",
   "execution_count": 5,
   "metadata": {},
   "outputs": [],
   "source": [
    "data_analisis = pd.get_dummies(data_analisis, columns=['hotel'])"
   ]
  },
  {
   "cell_type": "markdown",
   "metadata": {},
   "source": [
    "## 2. Lead Time"
   ]
  },
  {
   "cell_type": "markdown",
   "metadata": {},
   "source": [
    "### Sebaran lead time berdasarkan pembatalan"
   ]
  },
  {
   "cell_type": "code",
   "execution_count": 22,
   "metadata": {},
   "outputs": [
    {
     "data": {
      "text/plain": [
       "(0, 100)"
      ]
     },
     "execution_count": 22,
     "metadata": {},
     "output_type": "execute_result"
    },
    {
     "data": {
      "image/png": "[encoded data removed]",
      "text/plain": [
       "<Figure size 864x432 with 1 Axes>"
      ]
     },
     "metadata": {
      "needs_background": "light"
     },
     "output_type": "display_data"
    }
   ],
   "source": [
    "plt.figure(figsize=(12,6))\n",
    "plt.title('Sebaran lead time berdasarkan pembatalan')\n",
    "data_analisis[(data_analisis['is_canceled']==0)]['lead_time'].hist(alpha=0.5,bins=70,color='blue',grid=False)\n",
    "data_analisis[(data_analisis['is_canceled']==1)]['lead_time'].hist(alpha=0.5,bins=70,color='red',grid=False)\n",
    "plt.legend(loc='upper right',labels=['Tamu Hotel','Pembatalan Reservasi'])\n",
    "plt.xlim(0,100)"
   ]
  },
  {
   "cell_type": "markdown",
   "metadata": {},
   "source": [
    "### Sebaran lead time yang melakukan pembatalan reservasi berdasarkan hotel"
   ]
  },
  {
   "cell_type": "code",
   "execution_count": 10,
   "metadata": {},
   "outputs": [
    {
     "data": {
      "text/plain": [
       "(0, 100)"
      ]
     },
     "execution_count": 10,
     "metadata": {},
     "output_type": "execute_result"
    },
    {
     "data": {
      "image/png": "[encoded data removed]",
      "text/plain": [
       "<Figure size 864x432 with 1 Axes>"
      ]
     },
     "metadata": {
      "needs_background": "light"
     },
     "output_type": "display_data"
    }
   ],
   "source": [
    "plt.figure(figsize=(12,6))\n",
    "plt.title('Sebaran pembatalan berdasarkan lead time tiap hotel')\n",
    "data_analisis[(data_analisis['is_canceled']==1) & (data_analisis['hotel']=='City Hotel')]['lead_time'].hist(alpha=0.5,bins=70,color='blue',grid=False)\n",
    "data_analisis[(data_analisis['is_canceled']==1) & (data_analisis['hotel']=='Resort Hotel')]['lead_time'].hist(alpha=0.5,bins=70,color='red',grid=False)\n",
    "plt.legend(loc='upper right',labels=['City Hotel','Resort Hotel'])\n",
    "plt.xlim(0,100)"
   ]
  },
  {
   "cell_type": "markdown",
   "metadata": {},
   "source": [
    "Tidak ada pengaruh spesifik pada lead_time jika melihat pengaruhnya berdasarkan hotel."
   ]
  },
  {
   "cell_type": "markdown",
   "metadata": {},
   "source": [
    "## 4. Arrival date year"
   ]
  },
  {
   "cell_type": "code",
   "execution_count": 6,
   "metadata": {},
   "outputs": [],
   "source": [
    "data_analisis = pd.get_dummies(data_analisis, columns=['arrival_date_year'])"
   ]
  },
  {
   "cell_type": "code",
   "execution_count": 11,
   "metadata": {},
   "outputs": [
    {
     "data": {
      "text/plain": [
       "<matplotlib.axes._subplots.AxesSubplot at 0x1b12af21128>"
      ]
     },
     "execution_count": 11,
     "metadata": {},
     "output_type": "execute_result"
    },
    {
     "data": {
      "image/png": "[encoded data removed]",
      "text/plain": [
       "<Figure size 864x432 with 1 Axes>"
      ]
     },
     "metadata": {
      "needs_background": "light"
     },
     "output_type": "display_data"
    }
   ],
   "source": [
    "plt.figure(figsize=(12,6))\n",
    "plt.title('Perbandingan tamu cancel/tidak berdasarkan tahun')\n",
    "sns.countplot(x='Reservasi', hue='arrival_date_year', data=data_analisis)"
   ]
  },
  {
   "cell_type": "code",
   "execution_count": 12,
   "metadata": {},
   "outputs": [
    {
     "name": "stdout",
     "output_type": "stream",
     "text": [
      "Banyak reservasi hotel berdasarkan tahun\n"
     ]
    },
    {
     "data": {
      "text/plain": [
       "2016    56707\n",
       "2017    40687\n",
       "2015    21996\n",
       "Name: arrival_date_year, dtype: int64"
      ]
     },
     "execution_count": 12,
     "metadata": {},
     "output_type": "execute_result"
    }
   ],
   "source": [
    "print('Banyak reservasi hotel berdasarkan tahun')\n",
    "data_analisis['arrival_date_year'].value_counts()"
   ]
  },
  {
   "cell_type": "code",
   "execution_count": 13,
   "metadata": {},
   "outputs": [
    {
     "name": "stdout",
     "output_type": "stream",
     "text": [
      "Banyak tamu hotel berdasarkan tahun\n"
     ]
    },
    {
     "data": {
      "text/plain": [
       "2016    36370\n",
       "2017    24942\n",
       "2015    13854\n",
       "Name: arrival_date_year, dtype: int64"
      ]
     },
     "execution_count": 13,
     "metadata": {},
     "output_type": "execute_result"
    }
   ],
   "source": [
    "print('Banyak tamu hotel berdasarkan tahun')\n",
    "data_analisis[data_analisis['is_canceled']==0]['arrival_date_year'].value_counts()"
   ]
  },
  {
   "cell_type": "code",
   "execution_count": 14,
   "metadata": {},
   "outputs": [
    {
     "name": "stdout",
     "output_type": "stream",
     "text": [
      "Banyak pembatalan reservasi berdasarkan tahun\n"
     ]
    },
    {
     "data": {
      "text/plain": [
       "2016    20337\n",
       "2017    15745\n",
       "2015     8142\n",
       "Name: arrival_date_year, dtype: int64"
      ]
     },
     "execution_count": 14,
     "metadata": {},
     "output_type": "execute_result"
    }
   ],
   "source": [
    "print('Banyak pembatalan reservasi berdasarkan tahun')\n",
    "data_analisis[data_analisis['is_canceled']==1]['arrival_date_year'].value_counts()"
   ]
  },
  {
   "cell_type": "code",
   "execution_count": 15,
   "metadata": {},
   "outputs": [
    {
     "name": "stdout",
     "output_type": "stream",
     "text": [
      "Sebanyak 37.02% reservasi tahun 2015 dibatalkan, 35.86% pada tahun 2016, dan 38.70% pada tahun 2017. Karena perbedaan tidak cukup signifikan, tahun tidak mempengaruhi pembatalan reservasi\n"
     ]
    }
   ],
   "source": [
    "print('Sebanyak {:.2f}% reservasi tahun 2015 dibatalkan, {:.2f}% pada tahun 2016, dan {:.2f}% pada tahun 2017. Karena perbedaan tidak cukup signifikan, tahun tidak mempengaruhi pembatalan reservasi'.format(\n",
    "    (data_analisis[(data_analisis['arrival_date_year']==2015) & (data_analisis['is_canceled']==1)]['is_canceled'].count()*100/data_analisis[data_analisis['arrival_date_year']==2015]['is_canceled'].count()), \n",
    "    (data_analisis[(data_analisis['arrival_date_year']==2016) & (data_analisis['is_canceled']==1)]['is_canceled'].count())*100/data_analisis[data_analisis['arrival_date_year']==2016]['is_canceled'].count(),\n",
    "    (data_analisis[(data_analisis['arrival_date_year']==2017) & (data_analisis['is_canceled']==1)]['is_canceled'].count())*100/data_analisis[data_analisis['arrival_date_year']==2017]['is_canceled'].count()))"
   ]
  },
  {
   "cell_type": "markdown",
   "metadata": {},
   "source": [
    "## 5. Arrival_date_month"
   ]
  },
  {
   "cell_type": "code",
   "execution_count": 7,
   "metadata": {},
   "outputs": [],
   "source": [
    "data_analisis = pd.get_dummies(data_analisis, columns=['arrival_date_month'])"
   ]
  },
  {
   "cell_type": "code",
   "execution_count": 16,
   "metadata": {},
   "outputs": [
    {
     "data": {
      "text/plain": [
       "August       5239\n",
       "July         4742\n",
       "May          4677\n",
       "June         4535\n",
       "April        4524\n",
       "October      4246\n",
       "September    4116\n",
       "March        3149\n",
       "February     2696\n",
       "December     2371\n",
       "November     2122\n",
       "January      1807\n",
       "Name: arrival_date_month, dtype: int64"
      ]
     },
     "execution_count": 16,
     "metadata": {},
     "output_type": "execute_result"
    }
   ],
   "source": [
    "data_analisis[data_analisis['is_canceled']==1]['arrival_date_month'].value_counts()"
   ]
  },
  {
   "cell_type": "code",
   "execution_count": 18,
   "metadata": {},
   "outputs": [
    {
     "data": {
      "text/plain": [
       "August       8638\n",
       "July         7919\n",
       "May          7114\n",
       "October      6914\n",
       "March        6645\n",
       "April        6565\n",
       "June         6404\n",
       "September    6392\n",
       "February     5372\n",
       "November     4672\n",
       "December     4409\n",
       "January      4122\n",
       "Name: arrival_date_month, dtype: int64"
      ]
     },
     "execution_count": 18,
     "metadata": {},
     "output_type": "execute_result"
    }
   ],
   "source": [
    "data_analisis[data_analisis['is_canceled']==0]['arrival_date_month'].value_counts()"
   ]
  },
  {
   "cell_type": "code",
   "execution_count": 10,
   "metadata": {},
   "outputs": [],
   "source": [
    "data_analisis = pd.get_dummies(data_analisis, columns=['arrival_date_month'])"
   ]
  },
  {
   "cell_type": "code",
   "execution_count": 253,
   "metadata": {},
   "outputs": [
    {
     "name": "stdout",
     "output_type": "stream",
     "text": [
      "List presentase reservasi batal berdasarkan bulan kedatangan:\n",
      "1. Januari: 30.48%\n",
      "2. Februari: 33.42%\n",
      "3. Maret: 32.15%\n",
      "4. April: 40.80%\n",
      "5. Mei: 39.67%\n",
      "6. Juni: 41.46%\n",
      "7. Juli: 37.45%\n",
      "8. Agustus: 37.75%\n",
      "9. September: 39.17%\n",
      "10. Oktober: 38.05%\n",
      "11. November: 31.23%\n",
      "12. Desember: 34.97%\n"
     ]
    }
   ],
   "source": [
    "print('List presentase reservasi batal berdasarkan bulan kedatangan:\\n1. Januari: {:.2f}%\\n2. Februari: {:.2f}%\\n3. Maret: {:.2f}%\\n4. April: {:.2f}%\\n5. Mei: {:.2f}%\\n6. Juni: {:.2f}%\\n7. Juli: {:.2f}%\\n8. Agustus: {:.2f}%\\n9. September: {:.2f}%\\n10. Oktober: {:.2f}%\\n11. November: {:.2f}%\\n12. Desember: {:.2f}%'.format(\n",
    "    (data_analisis[(data_analisis['arrival_date_month_January']==1) & (data_analisis['is_canceled']==1)]['is_canceled'].count()*100/data_analisis[data_analisis['arrival_date_month_January']==1]['is_canceled'].count()),\n",
    "    (data_analisis[(data_analisis['arrival_date_month_February']==1) & (data_analisis['is_canceled']==1)]['is_canceled'].count()*100/data_analisis[data_analisis['arrival_date_month_February']==1]['is_canceled'].count()),\n",
    "    (data_analisis[(data_analisis['arrival_date_month_March']==1) & (data_analisis['is_canceled']==1)]['is_canceled'].count()*100/data_analisis[data_analisis['arrival_date_month_March']==1]['is_canceled'].count()),\n",
    "    (data_analisis[(data_analisis['arrival_date_month_April']==1) & (data_analisis['is_canceled']==1)]['is_canceled'].count()*100/data_analisis[data_analisis['arrival_date_month_April']==1]['is_canceled'].count()),\n",
    "    (data_analisis[(data_analisis['arrival_date_month_May']==1) & (data_analisis['is_canceled']==1)]['is_canceled'].count()*100/data_analisis[data_analisis['arrival_date_month_May']==1]['is_canceled'].count()),\n",
    "    (data_analisis[(data_analisis['arrival_date_month_June']==1) & (data_analisis['is_canceled']==1)]['is_canceled'].count()*100/data_analisis[data_analisis['arrival_date_month_June']==1]['is_canceled'].count()),\n",
    "    (data_analisis[(data_analisis['arrival_date_month_July']==1) & (data_analisis['is_canceled']==1)]['is_canceled'].count()*100/data_analisis[data_analisis['arrival_date_month_July']==1]['is_canceled'].count()),\n",
    "    (data_analisis[(data_analisis['arrival_date_month_August']==1) & (data_analisis['is_canceled']==1)]['is_canceled'].count()*100/data_analisis[data_analisis['arrival_date_month_August']==1]['is_canceled'].count()),\n",
    "    (data_analisis[(data_analisis['arrival_date_month_September']==1) & (data_analisis['is_canceled']==1)]['is_canceled'].count()*100/data_analisis[data_analisis['arrival_date_month_September']==1]['is_canceled'].count()),\n",
    "    (data_analisis[(data_analisis['arrival_date_month_October']==1) & (data_analisis['is_canceled']==1)]['is_canceled'].count()*100/data_analisis[data_analisis['arrival_date_month_October']==1]['is_canceled'].count()),\n",
    "    (data_analisis[(data_analisis['arrival_date_month_November']==1) & (data_analisis['is_canceled']==1)]['is_canceled'].count()*100/data_analisis[data_analisis['arrival_date_month_November']==1]['is_canceled'].count()),\n",
    "    (data_analisis[(data_analisis['arrival_date_month_December']==1) & (data_analisis['is_canceled']==1)]['is_canceled'].count()*100/data_analisis[data_analisis['arrival_date_month_December']==1]['is_canceled'].count())))"
   ]
  },
  {
   "cell_type": "code",
   "execution_count": 13,
   "metadata": {},
   "outputs": [
    {
     "data": {
      "text/plain": [
       "August       13877\n",
       "July         12661\n",
       "May          11791\n",
       "October      11160\n",
       "April        11089\n",
       "June         10939\n",
       "September    10508\n",
       "March         9794\n",
       "February      8068\n",
       "November      6794\n",
       "December      6780\n",
       "January       5929\n",
       "Name: arrival_date_month, dtype: int64"
      ]
     },
     "execution_count": 13,
     "metadata": {},
     "output_type": "execute_result"
    }
   ],
   "source": [
    "train['arrival_date_month'].value_counts()"
   ]
  },
  {
   "cell_type": "code",
   "execution_count": 30,
   "metadata": {},
   "outputs": [
    {
     "data": {
      "text/plain": [
       "(0, 450)"
      ]
     },
     "execution_count": 30,
     "metadata": {},
     "output_type": "execute_result"
    },
    {
     "data": {
      "image/png": "[encoded data removed]",
      "text/plain": [
       "<Figure size 864x432 with 1 Axes>"
      ]
     },
     "metadata": {
      "needs_background": "light"
     },
     "output_type": "display_data"
    }
   ],
   "source": [
    "plt.figure(figsize=(12,6))\n",
    "plt.title('Sebaran lead_time berdasarkan bulan pemesanan')\n",
    "data_analisis[(data_analisis['arrival_date_month_June']==1)]['lead_time'].hist(alpha=0.5,bins=70,color='blue',grid=False)\n",
    "data_analisis[(data_analisis['arrival_date_month_March']==1)]['lead_time'].hist(alpha=0.5,bins=70,color='red',grid=False)\n",
    "plt.legend(loc='upper right',labels=['Juni','March'])\n",
    "plt.xlim(0,450)"
   ]
  },
  {
   "cell_type": "code",
   "execution_count": 31,
   "metadata": {},
   "outputs": [
    {
     "data": {
      "text/plain": [
       "(0, 450)"
      ]
     },
     "execution_count": 31,
     "metadata": {},
     "output_type": "execute_result"
    },
    {
     "data": {
      "image/png": "[encoded data removed]",
      "text/plain": [
       "<Figure size 864x432 with 1 Axes>"
      ]
     },
     "metadata": {
      "needs_background": "light"
     },
     "output_type": "display_data"
    }
   ],
   "source": [
    "plt.figure(figsize=(12,6))\n",
    "plt.title('Sebaran lead_time berdasarkan bulan pemesanan')\n",
    "data_analisis[(data_analisis['arrival_date_month_June']==1) & (data_analisis['is_canceled']==0)]['lead_time'].hist(alpha=0.5,bins=70,color='blue',grid=False)\n",
    "data_analisis[(data_analisis['arrival_date_month_June']==1) & (data_analisis['is_canceled']==1)]['lead_time'].hist(alpha=0.5,bins=70,color='red',grid=False)\n",
    "plt.legend(loc='upper right',labels=['not_canceled','is_canceled'])\n",
    "plt.xlim(0,450)"
   ]
  },
  {
   "cell_type": "code",
   "execution_count": 32,
   "metadata": {},
   "outputs": [
    {
     "data": {
      "text/plain": [
       "(0, 200)"
      ]
     },
     "execution_count": 32,
     "metadata": {},
     "output_type": "execute_result"
    },
    {
     "data": {
      "image/png": "[encoded data removed]",
      "text/plain": [
       "<Figure size 864x432 with 1 Axes>"
      ]
     },
     "metadata": {
      "needs_background": "light"
     },
     "output_type": "display_data"
    }
   ],
   "source": [
    "plt.figure(figsize=(12,6))\n",
    "plt.title('Sebaran lead_time berdasarkan bulan pemesanan')\n",
    "data_analisis[(data_analisis['arrival_date_month_March']==1) & (data_analisis['is_canceled']==0)]['lead_time'].hist(alpha=0.5,bins=70,color='blue',grid=False)\n",
    "data_analisis[(data_analisis['arrival_date_month_March']==1) & (data_analisis['is_canceled']==1)]['lead_time'].hist(alpha=0.5,bins=70,color='red',grid=False)\n",
    "plt.legend(loc='upper right',labels=['not_canceled','is_canceled'])\n",
    "plt.xlim(0,200)"
   ]
  },
  {
   "cell_type": "code",
   "execution_count": 262,
   "metadata": {},
   "outputs": [],
   "source": [
    "def impute_month(cols):\n",
    "    month = cols[0]\n",
    "    \n",
    "    if (month=='January') | (month=='February') | (month=='March') | (month=='November') | (month=='December'):\n",
    "        return 0\n",
    "    else:\n",
    "        return 1\n",
    "data_analisis['busy_month']=train[['arrival_date_month']].apply(impute_month,axis=1)"
   ]
  },
  {
   "cell_type": "code",
   "execution_count": 17,
   "metadata": {},
   "outputs": [
    {
     "data": {
      "text/plain": [
       "1    82025\n",
       "0    37365\n",
       "Name: busy_month, dtype: int64"
      ]
     },
     "execution_count": 17,
     "metadata": {},
     "output_type": "execute_result"
    }
   ],
   "source": [
    "data_analisis['busy_month'].value_counts()"
   ]
  },
  {
   "cell_type": "markdown",
   "metadata": {},
   "source": [
    "## 6. Arrival_date_week_number"
   ]
  },
  {
   "cell_type": "code",
   "execution_count": 8,
   "metadata": {},
   "outputs": [],
   "source": [
    "data_analisis = pd.get_dummies(data_analisis, columns=['arrival_date_week_number'])"
   ]
  },
  {
   "cell_type": "code",
   "execution_count": 22,
   "metadata": {},
   "outputs": [],
   "source": [
    "# plt.figure(figsize=(12,6))\n",
    "# plt.title('Distribusi Minggu Kedatangan')\n",
    "# sns.distplot(train['arrival_date_week_number'],bins=50)"
   ]
  },
  {
   "cell_type": "code",
   "execution_count": 23,
   "metadata": {},
   "outputs": [],
   "source": [
    "# plt.figure(figsize=(12,6))\n",
    "# plt.title('Distribusi Tamu Kedatangan berdasarkan minggu')\n",
    "# sns.distplot(train[train['is_canceled']==0]['arrival_date_week_number'],bins=50)"
   ]
  },
  {
   "cell_type": "code",
   "execution_count": 24,
   "metadata": {},
   "outputs": [],
   "source": [
    "# plt.figure(figsize=(12,6))\n",
    "# plt.title('Distribusi Pembatalan berdasarkan Minggu Kedatangan')\n",
    "# sns.distplot(train[train['is_canceled']==1]['arrival_date_week_number'],bins=50)"
   ]
  },
  {
   "cell_type": "code",
   "execution_count": 21,
   "metadata": {},
   "outputs": [
    {
     "data": {
      "text/plain": [
       "(0, 52)"
      ]
     },
     "execution_count": 21,
     "metadata": {},
     "output_type": "execute_result"
    },
    {
     "data": {
      "image/png": "[encoded data removed]",
      "text/plain": [
       "<Figure size 864x432 with 1 Axes>"
      ]
     },
     "metadata": {
      "needs_background": "light"
     },
     "output_type": "display_data"
    }
   ],
   "source": [
    "plt.figure(figsize=(12,6))\n",
    "plt.title('Sebaran pemesanan berdasarkan wwek arrival')\n",
    "data_analisis[(data_analisis['is_canceled']==0)]['arrival_date_week_number'].hist(alpha=0.5,bins=50,color='blue',grid=False)\n",
    "data_analisis[(data_analisis['is_canceled']==1)]['arrival_date_week_number'].hist(alpha=0.5,bins=50,color='red',grid=False)\n",
    "plt.legend(loc='upper right',labels=['not_canceled','is_canceled'])\n",
    "plt.xlim(0,52)"
   ]
  },
  {
   "cell_type": "markdown",
   "metadata": {},
   "source": [
    "Sudah diwakilkan oleh arrival_date_month"
   ]
  },
  {
   "cell_type": "markdown",
   "metadata": {},
   "source": [
    "## 7. Arrival_date_day_of_month"
   ]
  },
  {
   "cell_type": "code",
   "execution_count": 9,
   "metadata": {},
   "outputs": [],
   "source": [
    "data_analisis = pd.get_dummies(data_analisis, columns=['arrival_date_day_of_month'])"
   ]
  },
  {
   "cell_type": "code",
   "execution_count": 19,
   "metadata": {},
   "outputs": [
    {
     "data": {
      "text/plain": [
       "(0, 31)"
      ]
     },
     "execution_count": 19,
     "metadata": {},
     "output_type": "execute_result"
    },
    {
     "data": {
      "image/png": "[encoded data removed]",
      "text/plain": [
       "<Figure size 864x432 with 1 Axes>"
      ]
     },
     "metadata": {
      "needs_background": "light"
     },
     "output_type": "display_data"
    }
   ],
   "source": [
    "plt.figure(figsize=(12,6))\n",
    "plt.title('Sebaran pemesanan berdasarkan tanggal bulan March')\n",
    "data_analisis[(data_analisis['arrival_date_month_March']==1) & (data_analisis['is_canceled']==0)]['arrival_date_day_of_month'].hist(alpha=0.5,bins=30,color='blue',grid=False)\n",
    "data_analisis[(data_analisis['arrival_date_month_March']==1) & (data_analisis['is_canceled']==1)]['arrival_date_day_of_month'].hist(alpha=0.5,bins=30,color='red',grid=False)\n",
    "plt.legend(loc='upper right',labels=['not_canceled','is_canceled'])\n",
    "plt.xlim(0,31)"
   ]
  },
  {
   "cell_type": "code",
   "execution_count": 20,
   "metadata": {},
   "outputs": [
    {
     "data": {
      "text/plain": [
       "(0, 30)"
      ]
     },
     "execution_count": 20,
     "metadata": {},
     "output_type": "execute_result"
    },
    {
     "data": {
      "image/png": "[encoded data removed]",
      "text/plain": [
       "<Figure size 864x432 with 1 Axes>"
      ]
     },
     "metadata": {
      "needs_background": "light"
     },
     "output_type": "display_data"
    }
   ],
   "source": [
    "plt.figure(figsize=(12,6))\n",
    "plt.title('Sebaran pemesanan berdasarkan tanggal bulan June')\n",
    "data_analisis[(data_analisis['arrival_date_month_June']==1) & (data_analisis['is_canceled']==0)]['arrival_date_day_of_month'].hist(alpha=0.5,bins=29,color='blue',grid=False)\n",
    "data_analisis[(data_analisis['arrival_date_month_June']==1) & (data_analisis['is_canceled']==1)]['arrival_date_day_of_month'].hist(alpha=0.5,bins=29,color='red',grid=False)\n",
    "plt.legend(loc='upper right',labels=['not_canceled','is_canceled'])\n",
    "plt.xlim(0,30)"
   ]
  },
  {
   "cell_type": "markdown",
   "metadata": {},
   "source": [
    "Busy month bisa digunakan untuk memperketat guarantee yang diberikan customer dengan biaya guarantee lebih kecil dibanding non busy month. Sehingga pendapatan akan lebih maksimal dicari di busy month dan promosi lebih gencar dilakukan di non busy month"
   ]
  },
  {
   "cell_type": "markdown",
   "metadata": {},
   "source": [
    "## 8. Stays_in_weekend_nights & stays_in_week_nights (lama menginap)"
   ]
  },
  {
   "cell_type": "code",
   "execution_count": 60,
   "metadata": {},
   "outputs": [
    {
     "data": {
      "text/plain": [
       "0    51998\n",
       "2    33308\n",
       "1    30626\n",
       "4     1855\n",
       "3     1259\n",
       "Name: stays_in_weekend_nights, dtype: int64"
      ]
     },
     "execution_count": 60,
     "metadata": {},
     "output_type": "execute_result"
    }
   ],
   "source": [
    "data_analisis['stays_in_weekend_nights'].value_counts().head()"
   ]
  },
  {
   "cell_type": "code",
   "execution_count": 61,
   "metadata": {},
   "outputs": [
    {
     "data": {
      "text/plain": [
       "2    33684\n",
       "1    30310\n",
       "3    22258\n",
       "5    11077\n",
       "4     9563\n",
       "Name: stays_in_week_nights, dtype: int64"
      ]
     },
     "execution_count": 61,
     "metadata": {},
     "output_type": "execute_result"
    }
   ],
   "source": [
    "data_analisis['stays_in_week_nights'].value_counts().head()"
   ]
  },
  {
   "cell_type": "code",
   "execution_count": 263,
   "metadata": {},
   "outputs": [],
   "source": [
    "def impute_weekend_stays(cols):\n",
    "    weekend = cols[0]\n",
    "    week = cols[1]\n",
    "    \n",
    "    if (weekend > 0) & (week == 0):\n",
    "        return 1\n",
    "    else:\n",
    "        return 0\n",
    "data_analisis['weekend_stays']=data_analisis[['stays_in_weekend_nights','stays_in_week_nights']].apply(impute_weekend_stays,axis=1)"
   ]
  },
  {
   "cell_type": "code",
   "execution_count": 264,
   "metadata": {},
   "outputs": [],
   "source": [
    "def impute_week_stays(cols):\n",
    "    weekend = cols[0]\n",
    "    week = cols[1]\n",
    "    \n",
    "    if (week > 0) & (weekend == 0):\n",
    "        return 1\n",
    "    else:\n",
    "        return 0\n",
    "data_analisis['week_stays']=data_analisis[['stays_in_weekend_nights','stays_in_week_nights']].apply(impute_week_stays,axis=1)"
   ]
  },
  {
   "cell_type": "code",
   "execution_count": 265,
   "metadata": {},
   "outputs": [],
   "source": [
    "def impute_long_holiday(cols):\n",
    "    weekend = cols[0]\n",
    "    week = cols[1]\n",
    "    \n",
    "    if (week > 0) & (weekend > 0):\n",
    "        return 1\n",
    "    else:\n",
    "        return 0\n",
    "data_analisis['long_weekend']=data_analisis[['stays_in_weekend_nights','stays_in_week_nights']].apply(impute_long_holiday,axis=1)"
   ]
  },
  {
   "cell_type": "code",
   "execution_count": 266,
   "metadata": {},
   "outputs": [],
   "source": [
    "def impute_short_time(cols):\n",
    "    weekend = cols[0]\n",
    "    week = cols[1]\n",
    "    \n",
    "    if (week == 0) & (weekend == 0):\n",
    "        return 1\n",
    "    else:\n",
    "        return 0\n",
    "data_analisis['short_time']=data_analisis[['stays_in_weekend_nights','stays_in_week_nights']].apply(impute_short_time,axis=1)"
   ]
  },
  {
   "cell_type": "code",
   "execution_count": 234,
   "metadata": {},
   "outputs": [],
   "source": [
    "def impute_type_stays(cols):\n",
    "    weekend = cols[0]\n",
    "    week = cols[1]\n",
    "    \n",
    "    if (week > 0) & (weekend > 0):\n",
    "        return 'Long Holiday'\n",
    "    elif (week > 0) & (weekend == 0):\n",
    "        return 'Week Stays'\n",
    "    elif (weekend > 0) & (week == 0):\n",
    "        return 'Weekend Stays'\n",
    "    else:\n",
    "        return 'Short Time'\n",
    "data_analisis['type_stays']=data_analisis[['stays_in_weekend_nights','stays_in_week_nights']].apply(impute_type_stays,axis=1)"
   ]
  },
  {
   "cell_type": "code",
   "execution_count": 50,
   "metadata": {},
   "outputs": [
    {
     "data": {
      "text/plain": [
       "<matplotlib.axes._subplots.AxesSubplot at 0x2b9ed066198>"
      ]
     },
     "execution_count": 50,
     "metadata": {},
     "output_type": "execute_result"
    },
    {
     "data": {
      "image/png": "[encoded data removed]",
      "text/plain": [
       "<Figure size 432x288 with 1 Axes>"
      ]
     },
     "metadata": {
      "needs_background": "light"
     },
     "output_type": "display_data"
    }
   ],
   "source": [
    "plt.title('Perbandingan tamu cancel/tidak berdasarkan jenis waktu menginap')\n",
    "sns.countplot(x='type_stays', hue='Reservasi', data=data_analisis)"
   ]
  },
  {
   "cell_type": "code",
   "execution_count": 51,
   "metadata": {},
   "outputs": [
    {
     "name": "stdout",
     "output_type": "stream",
     "text": [
      "Sebanyak 4.90% reservasi short time dibatalkan, jauh lebih sedikit daripada weekend stays (27.10%), long weekend (37.78%), dan week stays (37.96%)\n"
     ]
    }
   ],
   "source": [
    "print('Sebanyak {:.2f}% reservasi short time dibatalkan, jauh lebih sedikit daripada weekend stays ({:.2f}%), long weekend ({:.2f}%), dan week stays ({:.2f}%)'.format(\n",
    "    (data_analisis[(data_analisis['short_time']==1) & (data_analisis['is_canceled']==1)]['is_canceled'].count())*100/data_analisis[data_analisis['short_time']==1]['is_canceled'].count(),\n",
    "    (data_analisis[(data_analisis['weekend_stays']==1) & (data_analisis['is_canceled']==1)]['is_canceled'].count()*100/data_analisis[data_analisis['weekend_stays']==1]['is_canceled'].count()),\n",
    "    (data_analisis[(data_analisis['long_weekend']==1) & (data_analisis['is_canceled']==1)]['is_canceled'].count())*100/data_analisis[data_analisis['long_weekend']==1]['is_canceled'].count(),\n",
    "    (data_analisis[(data_analisis['week_stays']==1) & (data_analisis['is_canceled']==1)]['is_canceled'].count())*100/data_analisis[data_analisis['week_stays']==1]['is_canceled'].count()))"
   ]
  },
  {
   "cell_type": "code",
   "execution_count": 10,
   "metadata": {},
   "outputs": [],
   "source": [
    "def impute_nights(cols):\n",
    "    weekend = cols[0]\n",
    "    week = cols[1]\n",
    "    \n",
    "    return weekend + week\n",
    "data_analisis['nights']=data_analisis[['stays_in_weekend_nights','stays_in_week_nights']].apply(impute_nights,axis=1)"
   ]
  },
  {
   "cell_type": "code",
   "execution_count": 29,
   "metadata": {},
   "outputs": [
    {
     "data": {
      "text/plain": [
       "(0, 5)"
      ]
     },
     "execution_count": 29,
     "metadata": {},
     "output_type": "execute_result"
    },
    {
     "data": {
      "image/png": "[encoded data removed]",
      "text/plain": [
       "<Figure size 864x432 with 1 Axes>"
      ]
     },
     "metadata": {
      "needs_background": "light"
     },
     "output_type": "display_data"
    }
   ],
   "source": [
    "plt.figure(figsize=(12,6))\n",
    "plt.title('Sebaran pembatalan berdasarkan week stays')\n",
    "data_analisis[(data_analisis['is_canceled']==0) & (data_analisis['week_stays']==1)]['nights'].hist(alpha=0.5,bins=4,color='blue',grid=False)\n",
    "data_analisis[(data_analisis['is_canceled']==1) & (data_analisis['week_stays']==1)]['nights'].hist(alpha=0.5,bins=4,color='red',grid=False)\n",
    "plt.legend(loc='upper right',labels=['Tamu Hotel','Pembatalan Reservasi'])\n",
    "plt.xlim(0,5)"
   ]
  },
  {
   "cell_type": "code",
   "execution_count": 28,
   "metadata": {},
   "outputs": [
    {
     "data": {
      "text/plain": [
       "69"
      ]
     },
     "execution_count": 28,
     "metadata": {},
     "output_type": "execute_result"
    }
   ],
   "source": [
    "data_analisis[data_analisis['long_weekend']==1]['nights'].max()"
   ]
  },
  {
   "cell_type": "code",
   "execution_count": 71,
   "metadata": {},
   "outputs": [],
   "source": [
    "# plt.figure(figsize=(12,6))\n",
    "# plt.title('Sebaran pembatalan berdasarkan weekend stays')\n",
    "# data_analisis[(data_analisis['is_canceled']==0)]['stays_in_weekend_nights'].hist(alpha=0.5,bins=18,color='blue',grid=False)\n",
    "# data_analisis[(data_analisis['is_canceled']==1)]['stays_in_weekend_nights'].hist(alpha=0.5,bins=18,color='red',grid=False)\n",
    "# plt.legend(loc='upper right',labels=['Tamu Hotel','Pembatalan Reservasi'])\n",
    "# plt.xlim(0,5)"
   ]
  },
  {
   "cell_type": "code",
   "execution_count": 74,
   "metadata": {},
   "outputs": [],
   "source": [
    "# plt.figure(figsize=(12,6))\n",
    "# plt.title('Sebaran pembatalan berdasarkan night stays')\n",
    "# data_analisis[(data_analisis['is_canceled']==0)]['nights'].hist(alpha=0.5,bins=68,color='blue',grid=False)\n",
    "# data_analisis[(data_analisis['is_canceled']==1)]['nights'].hist(alpha=0.5,bins=68,color='red',grid=False)\n",
    "# plt.legend(loc='upper right',labels=['Tamu Hotel','Pembatalan Reservasi'])\n",
    "# plt.xlim(0,20)"
   ]
  },
  {
   "cell_type": "markdown",
   "metadata": {},
   "source": [
    "## 9. Adults, Children, Babies"
   ]
  },
  {
   "cell_type": "code",
   "execution_count": 11,
   "metadata": {},
   "outputs": [],
   "source": [
    "def impute_children(cols):\n",
    "    children = cols[0]\n",
    "    \n",
    "    if pd.isnull(children):\n",
    "        return 0\n",
    "    else:\n",
    "        return children\n",
    "data_analisis['children'] = data_analisis[['children']].apply(impute_children,axis=1)"
   ]
  },
  {
   "cell_type": "code",
   "execution_count": 151,
   "metadata": {},
   "outputs": [],
   "source": [
    "with_adults = data_analisis[(data_analisis['adults']>0) & ((data_analisis['children']==0) | data_analisis['babies']==0)]"
   ]
  },
  {
   "cell_type": "code",
   "execution_count": 152,
   "metadata": {},
   "outputs": [],
   "source": [
    "without_adults = data_analisis[(data_analisis['adults']==0) & ((data_analisis['children']>0) | data_analisis['babies']>0)]"
   ]
  },
  {
   "cell_type": "code",
   "execution_count": 153,
   "metadata": {},
   "outputs": [],
   "source": [
    "no_customer = data_analisis[(data_analisis['adults']==0) & (data_analisis['children']==0) & (data_analisis['babies']==0)]\n",
    "complete = data_analisis[(data_analisis['adults']>0) & (data_analisis['children']>0) & (data_analisis['babies']>0)]"
   ]
  },
  {
   "cell_type": "code",
   "execution_count": 154,
   "metadata": {},
   "outputs": [
    {
     "name": "stdout",
     "output_type": "stream",
     "text": [
      "Sebanyak 37.67% reservasi oleh without adults dibatalkan, lebih tinggi daripada with adults (36.72%), complete (19.19%), dan no customer (13.89%)\n"
     ]
    }
   ],
   "source": [
    "print('Sebanyak {:.2f}% reservasi oleh without adults dibatalkan, lebih tinggi daripada with adults ({:.2f}%), complete ({:.2f}%), dan no customer ({:.2f}%)'.format(\n",
    "    (without_adults[(without_adults['is_canceled']==1)]['is_canceled'].count()*100/without_adults['is_canceled'].count()),\n",
    "    (with_adults[(with_adults['is_canceled']==1)]['is_canceled'].count()*100/with_adults['is_canceled'].count()),\n",
    "    (complete[(complete['is_canceled']==1)]['is_canceled'].count()*100/complete['is_canceled'].count()),\n",
    "    (no_customer[(no_customer['is_canceled']==1)]['is_canceled'].count()*100/no_customer['is_canceled'].count())))"
   ]
  },
  {
   "cell_type": "code",
   "execution_count": 267,
   "metadata": {},
   "outputs": [],
   "source": [
    "def impute_customer_comb(cols):\n",
    "    adults = cols[0]\n",
    "    children = cols[1]\n",
    "    babies = cols[2]\n",
    "    \n",
    "    if (adults > 0) & ((children==0) | (babies==0)):\n",
    "        return 'With Adults'\n",
    "    elif (adults == 0) & ((children>0) | (babies>0)):\n",
    "        return 'Without Adults'\n",
    "    elif (adults > 0) & (children > 0) & (babies > 0):\n",
    "        return 'Complete'\n",
    "#     elif (adults == 0) & (children == 0) & (babies == 0):\n",
    "#         return 'No Customer'\n",
    "    else:\n",
    "        return 'No Customer'\n",
    "data_analisis['customer_comb']=data_analisis[['adults','children','babies']].apply(impute_customer_comb,axis=1)"
   ]
  },
  {
   "cell_type": "code",
   "execution_count": 52,
   "metadata": {},
   "outputs": [
    {
     "data": {
      "text/plain": [
       "With Adults       118815\n",
       "Without Adults       223\n",
       "No Customer          180\n",
       "Complete             172\n",
       "Name: customer_comb, dtype: int64"
      ]
     },
     "execution_count": 52,
     "metadata": {},
     "output_type": "execute_result"
    }
   ],
   "source": [
    "data_analisis['customer_comb'].value_counts()"
   ]
  },
  {
   "cell_type": "code",
   "execution_count": 268,
   "metadata": {},
   "outputs": [],
   "source": [
    "def impute_4adults(cols):\n",
    "    adults = cols[0]\n",
    "    customer_comb = cols[1]\n",
    "    \n",
    "    if (customer_comb == 'With Adults') & (adults > 4):\n",
    "        return 'With > 4 Adults'\n",
    "    elif (customer_comb == 'With Adults') & (adults == 1):\n",
    "        return 'With 1 Adult'\n",
    "    elif (customer_comb == 'With Adults') & (adults == 2):\n",
    "        return 'With 2 Adults'\n",
    "    elif (customer_comb == 'With Adults') & (adults == 3):\n",
    "        return 'With 3 Adults'\n",
    "    elif (customer_comb == 'With Adults') & (adults == 4):\n",
    "        return 'With 4 Adults'\n",
    "    else:\n",
    "        return customer_comb\n",
    "data_analisis['customer_comb']=data_analisis[['adults','customer_comb']].apply(impute_4adults,axis=1)"
   ]
  },
  {
   "cell_type": "code",
   "execution_count": 269,
   "metadata": {},
   "outputs": [],
   "source": [
    "data_analisis = pd.get_dummies(data_analisis, columns=['customer_comb'])"
   ]
  },
  {
   "cell_type": "code",
   "execution_count": 56,
   "metadata": {},
   "outputs": [
    {
     "name": "stdout",
     "output_type": "stream",
     "text": [
      "Sebanyak 100.00% reservasi untuk > 4 Adults dibatalkan, lebih tinggi daripada with 2 Adults (39.35%), without Adults (37.67%), with 3 Adults (34.69%), With 1 Adult (28.98%), With 4 Adults (25.81%), complete (19.19%), dan no customer (13.89%)\n"
     ]
    }
   ],
   "source": [
    "print('Sebanyak {:.2f}% reservasi untuk > 4 Adults dibatalkan, lebih tinggi daripada with 2 Adults ({:.2f}%), without Adults ({:.2f}%), with 3 Adults ({:.2f}%), With 1 Adult ({:.2f}%), With 4 Adults ({:.2f}%), complete ({:.2f}%), dan no customer ({:.2f}%)'.format(\n",
    "    (data_analisis[(data_analisis['is_canceled']==1) & (data_analisis['customer_comb']=='With > 4 Adults')]['is_canceled'].count()*100/data_analisis[(data_analisis['customer_comb']=='With > 4 Adults')]['is_canceled'].count()),\n",
    "    (data_analisis[(data_analisis['is_canceled']==1) & (data_analisis['customer_comb']=='With 2 Adults')]['is_canceled'].count()*100/data_analisis[(data_analisis['customer_comb']=='With 2 Adults')]['is_canceled'].count()),\n",
    "    (data_analisis[(data_analisis['is_canceled']==1) & (data_analisis['customer_comb']=='Without Adults')]['is_canceled'].count()*100/data_analisis[(data_analisis['customer_comb']=='Without Adults')]['is_canceled'].count()),\n",
    "    (data_analisis[(data_analisis['is_canceled']==1) & (data_analisis['customer_comb']=='With 3 Adults')]['is_canceled'].count()*100/data_analisis[(data_analisis['customer_comb']=='With 3 Adults')]['is_canceled'].count()),\n",
    "    (data_analisis[(data_analisis['is_canceled']==1) & (data_analisis['customer_comb']=='With 1 Adult')]['is_canceled'].count()*100/data_analisis[(data_analisis['customer_comb']=='With 1 Adult')]['is_canceled'].count()),\n",
    "    (data_analisis[(data_analisis['is_canceled']==1) & (data_analisis['customer_comb']=='With 4 Adults')]['is_canceled'].count()*100/data_analisis[(data_analisis['customer_comb']=='With 4 Adults')]['is_canceled'].count()),\n",
    "    (data_analisis[(data_analisis['is_canceled']==1) & (data_analisis['customer_comb']=='Complete')]['is_canceled'].count()*100/data_analisis[(data_analisis['customer_comb']=='Complete')]['is_canceled'].count()),\n",
    "    (data_analisis[(data_analisis['is_canceled']==1) & (data_analisis['customer_comb']=='No Customer')]['is_canceled'].count()*100/data_analisis[(data_analisis['customer_comb']=='No Customer')]['is_canceled'].count())))"
   ]
  },
  {
   "cell_type": "markdown",
   "metadata": {},
   "source": [
    "## 10. Meal"
   ]
  },
  {
   "cell_type": "code",
   "execution_count": 57,
   "metadata": {},
   "outputs": [
    {
     "data": {
      "text/plain": [
       "BB           92310\n",
       "HB           14463\n",
       "SC           10650\n",
       "Undefined     1169\n",
       "FB             798\n",
       "Name: meal, dtype: int64"
      ]
     },
     "execution_count": 57,
     "metadata": {},
     "output_type": "execute_result"
    }
   ],
   "source": [
    "data_analisis['meal'].value_counts()"
   ]
  },
  {
   "cell_type": "code",
   "execution_count": 12,
   "metadata": {},
   "outputs": [],
   "source": [
    "def impute_undefined(cols):\n",
    "    meal = cols[0]\n",
    "    \n",
    "    if meal == 'Undefined':\n",
    "        return 'SC'\n",
    "    else:\n",
    "        return meal\n",
    "data_analisis['meal'] = data_analisis[['meal']].apply(impute_undefined,axis=1)"
   ]
  },
  {
   "cell_type": "code",
   "execution_count": 63,
   "metadata": {},
   "outputs": [
    {
     "data": {
      "text/plain": [
       "BB    92310\n",
       "HB    14463\n",
       "SC    11819\n",
       "FB      798\n",
       "Name: meal, dtype: int64"
      ]
     },
     "execution_count": 63,
     "metadata": {},
     "output_type": "execute_result"
    }
   ],
   "source": [
    "data_analisis['meal'].value_counts()"
   ]
  },
  {
   "cell_type": "code",
   "execution_count": 64,
   "metadata": {},
   "outputs": [
    {
     "data": {
      "text/plain": [
       "<matplotlib.axes._subplots.AxesSubplot at 0x258119fdc18>"
      ]
     },
     "execution_count": 64,
     "metadata": {},
     "output_type": "execute_result"
    },
    {
     "data": {
      "image/png": "[encoded data removed]",
      "text/plain": [
       "<Figure size 432x288 with 1 Axes>"
      ]
     },
     "metadata": {
      "needs_background": "light"
     },
     "output_type": "display_data"
    }
   ],
   "source": [
    "plt.title('Perbandingan tamu cancel/tidak berdasarkan meal')\n",
    "sns.countplot(x='meal', hue='Reservasi', data=data_analisis)"
   ]
  },
  {
   "cell_type": "code",
   "execution_count": 298,
   "metadata": {},
   "outputs": [
    {
     "name": "stdout",
     "output_type": "stream",
     "text": [
      "Sebanyak 37.38% reservasi untuk > 4 Adults dibatalkan, lebih tinggi daripada with 2 Adults (34.46%), without Adults (35.98%), with 3 Adults (59.90%)\n"
     ]
    }
   ],
   "source": [
    "print('Sebanyak {:.2f}% reservasi untuk > 4 Adults dibatalkan, lebih tinggi daripada with 2 Adults ({:.2f}%), without Adults ({:.2f}%), with 3 Adults ({:.2f}%)'.format(\n",
    "    (data_analisis[(data_analisis['is_canceled']==1) & (data_analisis['meal']=='BB')]['is_canceled'].count()*100/data_analisis[(data_analisis['meal']=='BB')]['is_canceled'].count()),\n",
    "    (data_analisis[(data_analisis['is_canceled']==1) & (data_analisis['meal']=='HB')]['is_canceled'].count()*100/data_analisis[(data_analisis['meal']=='HB')]['is_canceled'].count()),\n",
    "    (data_analisis[(data_analisis['is_canceled']==1) & (data_analisis['meal']=='SC')]['is_canceled'].count()*100/data_analisis[(data_analisis['meal']=='SC')]['is_canceled'].count()),\n",
    "    (data_analisis[(data_analisis['is_canceled']==1) & (data_analisis['meal']=='FB')]['is_canceled'].count()*100/data_analisis[(data_analisis['meal']=='FB')]['is_canceled'].count())))"
   ]
  },
  {
   "cell_type": "code",
   "execution_count": 13,
   "metadata": {},
   "outputs": [],
   "source": [
    "data_analisis = pd.get_dummies(data_analisis, columns=['meal'])"
   ]
  },
  {
   "cell_type": "markdown",
   "metadata": {},
   "source": [
    "Bisa jadi 2 macam dummies (FB sama engga), bisa tetep 4 dummies"
   ]
  },
  {
   "cell_type": "code",
   "execution_count": 62,
   "metadata": {},
   "outputs": [],
   "source": [
    "# def impute_fb(cols):\n",
    "#     meal = cols[0]\n",
    "    \n",
    "#     if meal == 'FB':\n",
    "#         return 'FB'\n",
    "#     else:\n",
    "#         return 'non-FB'\n",
    "# data_analisis['meal'] = data_analisis[['meal']].apply(impute_fb,axis=1)"
   ]
  },
  {
   "cell_type": "markdown",
   "metadata": {},
   "source": [
    "## 11. Country"
   ]
  },
  {
   "cell_type": "code",
   "execution_count": 14,
   "metadata": {},
   "outputs": [],
   "source": [
    "data_analisis = pd.get_dummies(data_analisis, columns=['country'])"
   ]
  },
  {
   "cell_type": "code",
   "execution_count": 65,
   "metadata": {},
   "outputs": [
    {
     "data": {
      "text/plain": [
       "PRT    48590\n",
       "GBR    12129\n",
       "FRA    10415\n",
       "ESP     8568\n",
       "DEU     7287\n",
       "       ...  \n",
       "SMR        1\n",
       "BDI        1\n",
       "PYF        1\n",
       "BHS        1\n",
       "NPL        1\n",
       "Name: country, Length: 177, dtype: int64"
      ]
     },
     "execution_count": 65,
     "metadata": {},
     "output_type": "execute_result"
    }
   ],
   "source": [
    "data_analisis['country'].value_counts()"
   ]
  },
  {
   "cell_type": "code",
   "execution_count": 271,
   "metadata": {},
   "outputs": [],
   "source": [
    "def impute_country(cols):\n",
    "    country = cols[0]\n",
    "    \n",
    "    if country == 'PRT':\n",
    "        return 1\n",
    "    else:\n",
    "        return 0\n",
    "data_analisis['local'] = data_analisis[['country']].apply(impute_country,axis=1)"
   ]
  },
  {
   "cell_type": "code",
   "execution_count": 67,
   "metadata": {},
   "outputs": [
    {
     "data": {
      "text/plain": [
       "0    70800\n",
       "1    48590\n",
       "Name: local, dtype: int64"
      ]
     },
     "execution_count": 67,
     "metadata": {},
     "output_type": "execute_result"
    }
   ],
   "source": [
    "data_analisis['local'].value_counts()"
   ]
  },
  {
   "cell_type": "code",
   "execution_count": 68,
   "metadata": {},
   "outputs": [
    {
     "data": {
      "text/plain": [
       "<matplotlib.axes._subplots.AxesSubplot at 0x25811e4ccf8>"
      ]
     },
     "execution_count": 68,
     "metadata": {},
     "output_type": "execute_result"
    },
    {
     "data": {
      "image/png": "[encoded data removed]",
      "text/plain": [
       "<Figure size 432x288 with 1 Axes>"
      ]
     },
     "metadata": {
      "needs_background": "light"
     },
     "output_type": "display_data"
    }
   ],
   "source": [
    "plt.title('Perbandingan tamu cancel/tidak berdasarkan local')\n",
    "sns.countplot(x='local', hue='Reservasi', data=data_analisis)"
   ]
  },
  {
   "cell_type": "code",
   "execution_count": 69,
   "metadata": {},
   "outputs": [
    {
     "name": "stdout",
     "output_type": "stream",
     "text": [
      "Sebanyak 56.64% reservasi local dibatalkan, lebih tinggi daripada international (23.59%)\n"
     ]
    }
   ],
   "source": [
    "print('Sebanyak {:.2f}% reservasi local dibatalkan, lebih tinggi daripada international ({:.2f}%)'.format(\n",
    "    (data_analisis[(data_analisis['is_canceled']==1) & (data_analisis['local']==1)]['is_canceled'].count()*100/data_analisis[(data_analisis['local']==1)]['is_canceled'].count()),\n",
    "    (data_analisis[(data_analisis['is_canceled']==1) & (data_analisis['local']==0)]['is_canceled'].count()*100/data_analisis[(data_analisis['local']==0)]['is_canceled'].count())))"
   ]
  },
  {
   "cell_type": "code",
   "execution_count": 75,
   "metadata": {},
   "outputs": [
    {
     "data": {
      "text/plain": [
       "0    421\n",
       "1     67\n",
       "Name: is_canceled, dtype: int64"
      ]
     },
     "execution_count": 75,
     "metadata": {},
     "output_type": "execute_result"
    }
   ],
   "source": [
    "data_analisis[data_analisis['country'].isnull()]['is_canceled'].value_counts()"
   ]
  },
  {
   "cell_type": "code",
   "execution_count": 272,
   "metadata": {},
   "outputs": [],
   "source": [
    "def impute_country(cols):\n",
    "    country = cols[0]\n",
    "    \n",
    "    if pd.isnull(country):\n",
    "        return 'GBR'\n",
    "    else:\n",
    "        return country\n",
    "data_analisis['country'] = data_analisis[['country']].apply(impute_country,axis=1)"
   ]
  },
  {
   "cell_type": "code",
   "execution_count": 273,
   "metadata": {},
   "outputs": [],
   "source": [
    "def impute_country(cols):\n",
    "    country = cols[0]\n",
    "    \n",
    "    if country == 'PRT':\n",
    "        return 1\n",
    "    else:\n",
    "        return 0\n",
    "data_analisis['local'] = data_analisis[['country']].apply(impute_country,axis=1)"
   ]
  },
  {
   "cell_type": "code",
   "execution_count": 84,
   "metadata": {},
   "outputs": [
    {
     "data": {
      "text/plain": [
       "<matplotlib.axes._subplots.AxesSubplot at 0x25812477c50>"
      ]
     },
     "execution_count": 84,
     "metadata": {},
     "output_type": "execute_result"
    },
    {
     "data": {
      "image/png": "[encoded data removed]",
      "text/plain": [
       "<Figure size 432x288 with 1 Axes>"
      ]
     },
     "metadata": {
      "needs_background": "light"
     },
     "output_type": "display_data"
    }
   ],
   "source": [
    "plt.title('Perbandingan tamu cancel/tidak berdasarkan local')\n",
    "sns.countplot(x='local', hue='Reservasi', data=data_analisis)"
   ]
  },
  {
   "cell_type": "code",
   "execution_count": 69,
   "metadata": {},
   "outputs": [
    {
     "name": "stdout",
     "output_type": "stream",
     "text": [
      "Sebanyak 56.64% reservasi local dibatalkan, lebih tinggi daripada international (23.59%)\n"
     ]
    }
   ],
   "source": [
    "print('Sebanyak {:.2f}% reservasi local dibatalkan, lebih tinggi daripada international ({:.2f}%)'.format(\n",
    "    (data_analisis[(data_analisis['is_canceled']==1) & (data_analisis['local']==1)]['is_canceled'].count()*100/data_analisis[(data_analisis['local']==1)]['is_canceled'].count()),\n",
    "    (data_analisis[(data_analisis['is_canceled']==1) & (data_analisis['local']==0)]['is_canceled'].count()*100/data_analisis[(data_analisis['local']==0)]['is_canceled'].count())))"
   ]
  },
  {
   "cell_type": "markdown",
   "metadata": {},
   "source": [
    "## 12. Market Segment and Distribution Channel"
   ]
  },
  {
   "cell_type": "markdown",
   "metadata": {},
   "source": [
    "Market_segment lebih ke customernya tipikal suka cari dari mana atau orang mana. Kalo distribution channel yang bagian iklanin produk kita"
   ]
  },
  {
   "cell_type": "code",
   "execution_count": 15,
   "metadata": {},
   "outputs": [],
   "source": [
    "data_analisis = pd.get_dummies(data_analisis, columns=['market_segment'])"
   ]
  },
  {
   "cell_type": "code",
   "execution_count": 16,
   "metadata": {},
   "outputs": [],
   "source": [
    "data_analisis = pd.get_dummies(data_analisis, columns=['distribution_channel'])"
   ]
  },
  {
   "cell_type": "code",
   "execution_count": 89,
   "metadata": {},
   "outputs": [
    {
     "data": {
      "text/plain": [
       "Online TA        56477\n",
       "Offline TA/TO    24219\n",
       "Groups           19811\n",
       "Direct           12606\n",
       "Corporate         5295\n",
       "Complementary      743\n",
       "Aviation           237\n",
       "Undefined            2\n",
       "Name: market_segment, dtype: int64"
      ]
     },
     "execution_count": 89,
     "metadata": {},
     "output_type": "execute_result"
    }
   ],
   "source": [
    "data_analisis['market_segment'].value_counts()"
   ]
  },
  {
   "cell_type": "code",
   "execution_count": 90,
   "metadata": {},
   "outputs": [
    {
     "data": {
      "text/plain": [
       "TA/TO        97870\n",
       "Direct       14645\n",
       "Corporate     6677\n",
       "GDS            193\n",
       "Undefined        5\n",
       "Name: distribution_channel, dtype: int64"
      ]
     },
     "execution_count": 90,
     "metadata": {},
     "output_type": "execute_result"
    }
   ],
   "source": [
    "data_analisis['distribution_channel'].value_counts()"
   ]
  },
  {
   "cell_type": "code",
   "execution_count": 91,
   "metadata": {},
   "outputs": [
    {
     "data": {
      "text/plain": [
       "1    2\n",
       "Name: is_canceled, dtype: int64"
      ]
     },
     "execution_count": 91,
     "metadata": {},
     "output_type": "execute_result"
    }
   ],
   "source": [
    "data_analisis[data_analisis['market_segment']=='Undefined']['is_canceled'].value_counts()"
   ]
  },
  {
   "cell_type": "code",
   "execution_count": 92,
   "metadata": {},
   "outputs": [
    {
     "data": {
      "text/plain": [
       "1    4\n",
       "0    1\n",
       "Name: is_canceled, dtype: int64"
      ]
     },
     "execution_count": 92,
     "metadata": {},
     "output_type": "execute_result"
    }
   ],
   "source": [
    "data_analisis[data_analisis['distribution_channel']=='Undefined']['is_canceled'].value_counts()"
   ]
  },
  {
   "cell_type": "code",
   "execution_count": 95,
   "metadata": {},
   "outputs": [
    {
     "name": "stdout",
     "output_type": "stream",
     "text": [
      "Sebanyak 36.72% reservasi local dibatalkan, lebih tinggi daripada international (34.32%)\n"
     ]
    }
   ],
   "source": [
    "print('Sebanyak {:.2f}% reservasi local dibatalkan, lebih tinggi daripada international ({:.2f}%)'.format(\n",
    "    (data_analisis[(data_analisis['is_canceled']==1) & (data_analisis['market_segment']=='Online TA')]['is_canceled'].count()*100/data_analisis[(data_analisis['market_segment']=='Online TA')]['is_canceled'].count()),\n",
    "    (data_analisis[(data_analisis['is_canceled']==1) & (data_analisis['market_segment']=='Offline TA/TO')]['is_canceled'].count()*100/data_analisis[(data_analisis['market_segment']=='Offline TA/TO')]['is_canceled'].count())))"
   ]
  },
  {
   "cell_type": "code",
   "execution_count": 96,
   "metadata": {},
   "outputs": [
    {
     "data": {
      "text/plain": [
       "1    0.61062\n",
       "0    0.38938\n",
       "Name: is_canceled, dtype: float64"
      ]
     },
     "execution_count": 96,
     "metadata": {},
     "output_type": "execute_result"
    }
   ],
   "source": [
    "data_analisis[data_analisis['market_segment']=='Groups']['is_canceled'].value_counts(normalize=True)"
   ]
  },
  {
   "cell_type": "code",
   "execution_count": 97,
   "metadata": {},
   "outputs": [
    {
     "data": {
      "text/plain": [
       "0    0.846581\n",
       "1    0.153419\n",
       "Name: is_canceled, dtype: float64"
      ]
     },
     "execution_count": 97,
     "metadata": {},
     "output_type": "execute_result"
    }
   ],
   "source": [
    "data_analisis[data_analisis['market_segment']=='Direct']['is_canceled'].value_counts(normalize=True)"
   ]
  },
  {
   "cell_type": "code",
   "execution_count": 98,
   "metadata": {},
   "outputs": [
    {
     "data": {
      "text/plain": [
       "0    0.812653\n",
       "1    0.187347\n",
       "Name: is_canceled, dtype: float64"
      ]
     },
     "execution_count": 98,
     "metadata": {},
     "output_type": "execute_result"
    }
   ],
   "source": [
    "data_analisis[data_analisis['market_segment']=='Corporate']['is_canceled'].value_counts(normalize=True)"
   ]
  },
  {
   "cell_type": "code",
   "execution_count": 99,
   "metadata": {},
   "outputs": [
    {
     "data": {
      "text/plain": [
       "0    0.869448\n",
       "1    0.130552\n",
       "Name: is_canceled, dtype: float64"
      ]
     },
     "execution_count": 99,
     "metadata": {},
     "output_type": "execute_result"
    }
   ],
   "source": [
    "data_analisis[data_analisis['market_segment']=='Complementary']['is_canceled'].value_counts(normalize=True)"
   ]
  },
  {
   "cell_type": "code",
   "execution_count": 101,
   "metadata": {},
   "outputs": [
    {
     "data": {
      "text/plain": [
       "0    0.780591\n",
       "1    0.219409\n",
       "Name: is_canceled, dtype: float64"
      ]
     },
     "execution_count": 101,
     "metadata": {},
     "output_type": "execute_result"
    }
   ],
   "source": [
    "data_analisis[data_analisis['market_segment']=='Aviation']['is_canceled'].value_counts(normalize=True)"
   ]
  },
  {
   "cell_type": "code",
   "execution_count": 102,
   "metadata": {},
   "outputs": [
    {
     "data": {
      "text/plain": [
       "0    0.589741\n",
       "1    0.410259\n",
       "Name: is_canceled, dtype: float64"
      ]
     },
     "execution_count": 102,
     "metadata": {},
     "output_type": "execute_result"
    }
   ],
   "source": [
    "data_analisis[data_analisis['distribution_channel']=='TA/TO']['is_canceled'].value_counts(normalize=True)"
   ]
  },
  {
   "cell_type": "code",
   "execution_count": 103,
   "metadata": {},
   "outputs": [
    {
     "data": {
      "text/plain": [
       "0    0.825401\n",
       "1    0.174599\n",
       "Name: is_canceled, dtype: float64"
      ]
     },
     "execution_count": 103,
     "metadata": {},
     "output_type": "execute_result"
    }
   ],
   "source": [
    "data_analisis[data_analisis['distribution_channel']=='Direct']['is_canceled'].value_counts(normalize=True)"
   ]
  },
  {
   "cell_type": "code",
   "execution_count": 104,
   "metadata": {},
   "outputs": [
    {
     "data": {
      "text/plain": [
       "0    0.779242\n",
       "1    0.220758\n",
       "Name: is_canceled, dtype: float64"
      ]
     },
     "execution_count": 104,
     "metadata": {},
     "output_type": "execute_result"
    }
   ],
   "source": [
    "data_analisis[data_analisis['distribution_channel']=='Corporate']['is_canceled'].value_counts(normalize=True)"
   ]
  },
  {
   "cell_type": "code",
   "execution_count": 105,
   "metadata": {},
   "outputs": [
    {
     "data": {
      "text/plain": [
       "0    0.80829\n",
       "1    0.19171\n",
       "Name: is_canceled, dtype: float64"
      ]
     },
     "execution_count": 105,
     "metadata": {},
     "output_type": "execute_result"
    }
   ],
   "source": [
    "data_analisis[data_analisis['distribution_channel']=='GDS']['is_canceled'].value_counts(normalize=True)"
   ]
  },
  {
   "cell_type": "code",
   "execution_count": 274,
   "metadata": {},
   "outputs": [],
   "source": [
    "def impute_market(cols):\n",
    "    market = cols[0]\n",
    "    \n",
    "    if (market == 'Online TA') | (market == 'Offline TA/TO'):\n",
    "        return 1\n",
    "    else:\n",
    "        return 0\n",
    "data_analisis['market_TA_TO'] = data_analisis[['market_segment']].apply(impute_market,axis=1)"
   ]
  },
  {
   "cell_type": "code",
   "execution_count": 275,
   "metadata": {},
   "outputs": [],
   "source": [
    "def impute_market2(cols):\n",
    "    market = cols[0]\n",
    "    \n",
    "    if (market == 'Groups'):\n",
    "        return 1\n",
    "    else:\n",
    "        return 0\n",
    "data_analisis['market_Groups'] = data_analisis[['market_segment']].apply(impute_market2,axis=1)"
   ]
  },
  {
   "cell_type": "code",
   "execution_count": 276,
   "metadata": {},
   "outputs": [],
   "source": [
    "def impute_market3(cols):\n",
    "    market = cols[0]\n",
    "    \n",
    "    if (market == 'Undefined'):\n",
    "        return 1\n",
    "    else:\n",
    "        return 0\n",
    "data_analisis['market_Undefined'] = data_analisis[['market_segment']].apply(impute_market3,axis=1)"
   ]
  },
  {
   "cell_type": "code",
   "execution_count": 277,
   "metadata": {},
   "outputs": [],
   "source": [
    "def impute_channel(cols):\n",
    "    channel = cols[0]\n",
    "    \n",
    "    if (channel == 'TA/TO'):\n",
    "        return 1\n",
    "    else:\n",
    "        return 0\n",
    "data_analisis['channel_TA_TO'] = data_analisis[['distribution_channel']].apply(impute_channel,axis=1)"
   ]
  },
  {
   "cell_type": "code",
   "execution_count": 278,
   "metadata": {},
   "outputs": [],
   "source": [
    "def impute_channel2(cols):\n",
    "    channel = cols[0]\n",
    "    \n",
    "    if (channel == 'Undefined'):\n",
    "        return 1\n",
    "    else:\n",
    "        return 0\n",
    "data_analisis['channel_Undefined'] = data_analisis[['distribution_channel']].apply(impute_channel2,axis=1)"
   ]
  },
  {
   "cell_type": "markdown",
   "metadata": {},
   "source": [
    "## 13. Is_repeated_Guest"
   ]
  },
  {
   "cell_type": "code",
   "execution_count": 125,
   "metadata": {},
   "outputs": [
    {
     "data": {
      "text/plain": [
       "0    0.855118\n",
       "1    0.144882\n",
       "Name: is_canceled, dtype: float64"
      ]
     },
     "execution_count": 125,
     "metadata": {},
     "output_type": "execute_result"
    }
   ],
   "source": [
    "data_analisis[data_analisis['is_repeated_guest']==1]['is_canceled'].value_counts(normalize=True)"
   ]
  },
  {
   "cell_type": "code",
   "execution_count": 126,
   "metadata": {},
   "outputs": [
    {
     "data": {
      "text/plain": [
       "0    0.622149\n",
       "1    0.377851\n",
       "Name: is_canceled, dtype: float64"
      ]
     },
     "execution_count": 126,
     "metadata": {},
     "output_type": "execute_result"
    }
   ],
   "source": [
    "data_analisis[data_analisis['is_repeated_guest']==0]['is_canceled'].value_counts(normalize=True)"
   ]
  },
  {
   "cell_type": "markdown",
   "metadata": {},
   "source": [
    "## 14. previous_booking"
   ]
  },
  {
   "cell_type": "code",
   "execution_count": 130,
   "metadata": {},
   "outputs": [
    {
     "data": {
      "text/plain": [
       "1    0.944307\n",
       "0    0.055693\n",
       "Name: is_canceled, dtype: float64"
      ]
     },
     "execution_count": 130,
     "metadata": {},
     "output_type": "execute_result"
    }
   ],
   "source": [
    "data_analisis[data_analisis['previous_cancellations']==1]['is_canceled'].value_counts(normalize=True)"
   ]
  },
  {
   "cell_type": "code",
   "execution_count": 131,
   "metadata": {},
   "outputs": [
    {
     "data": {
      "text/plain": [
       "0    0.660939\n",
       "1    0.339061\n",
       "Name: is_canceled, dtype: float64"
      ]
     },
     "execution_count": 131,
     "metadata": {},
     "output_type": "execute_result"
    }
   ],
   "source": [
    "data_analisis[data_analisis['previous_cancellations']==0]['is_canceled'].value_counts(normalize=True)"
   ]
  },
  {
   "cell_type": "code",
   "execution_count": 132,
   "metadata": {},
   "outputs": [
    {
     "data": {
      "text/plain": [
       "0    0.619729\n",
       "1    0.380271\n",
       "Name: is_canceled, dtype: float64"
      ]
     },
     "execution_count": 132,
     "metadata": {},
     "output_type": "execute_result"
    }
   ],
   "source": [
    "data_analisis[data_analisis['previous_bookings_not_canceled']==0]['is_canceled'].value_counts(normalize=True)"
   ]
  },
  {
   "cell_type": "code",
   "execution_count": 133,
   "metadata": {},
   "outputs": [
    {
     "data": {
      "text/plain": [
       "0    0.948768\n",
       "1    0.051232\n",
       "Name: is_canceled, dtype: float64"
      ]
     },
     "execution_count": 133,
     "metadata": {},
     "output_type": "execute_result"
    }
   ],
   "source": [
    "data_analisis[data_analisis['previous_bookings_not_canceled']==1]['is_canceled'].value_counts(normalize=True)"
   ]
  },
  {
   "cell_type": "markdown",
   "metadata": {},
   "source": [
    "## 15. room_type"
   ]
  },
  {
   "cell_type": "code",
   "execution_count": 17,
   "metadata": {},
   "outputs": [],
   "source": [
    "data_analisis = pd.get_dummies(data_analisis, columns=['reserved_room_type'])"
   ]
  },
  {
   "cell_type": "code",
   "execution_count": 18,
   "metadata": {},
   "outputs": [],
   "source": [
    "data_analisis = pd.get_dummies(data_analisis, columns=['assigned_room_type'])"
   ]
  },
  {
   "cell_type": "code",
   "execution_count": 174,
   "metadata": {},
   "outputs": [
    {
     "data": {
      "text/plain": [
       "A    85994\n",
       "D    19201\n",
       "E     6535\n",
       "F     2897\n",
       "G     2094\n",
       "B     1118\n",
       "C      932\n",
       "H      601\n",
       "P       12\n",
       "L        6\n",
       "Name: reserved_room_type, dtype: int64"
      ]
     },
     "execution_count": 174,
     "metadata": {},
     "output_type": "execute_result"
    }
   ],
   "source": [
    "data_analisis['reserved_room_type'].value_counts()"
   ]
  },
  {
   "cell_type": "code",
   "execution_count": 138,
   "metadata": {},
   "outputs": [
    {
     "data": {
      "text/plain": [
       "0    0.608926\n",
       "1    0.391074\n",
       "Name: is_canceled, dtype: float64"
      ]
     },
     "execution_count": 138,
     "metadata": {},
     "output_type": "execute_result"
    }
   ],
   "source": [
    "data_analisis[data_analisis['reserved_room_type']=='A']['is_canceled'].value_counts(normalize=True)"
   ]
  },
  {
   "cell_type": "code",
   "execution_count": 139,
   "metadata": {},
   "outputs": [
    {
     "data": {
      "text/plain": [
       "0    0.682204\n",
       "1    0.317796\n",
       "Name: is_canceled, dtype: float64"
      ]
     },
     "execution_count": 139,
     "metadata": {},
     "output_type": "execute_result"
    }
   ],
   "source": [
    "data_analisis[data_analisis['reserved_room_type']=='D']['is_canceled'].value_counts(normalize=True)"
   ]
  },
  {
   "cell_type": "code",
   "execution_count": 140,
   "metadata": {},
   "outputs": [
    {
     "data": {
      "text/plain": [
       "0    0.707116\n",
       "1    0.292884\n",
       "Name: is_canceled, dtype: float64"
      ]
     },
     "execution_count": 140,
     "metadata": {},
     "output_type": "execute_result"
    }
   ],
   "source": [
    "data_analisis[data_analisis['reserved_room_type']=='E']['is_canceled'].value_counts(normalize=True)"
   ]
  },
  {
   "cell_type": "code",
   "execution_count": 141,
   "metadata": {},
   "outputs": [
    {
     "data": {
      "text/plain": [
       "0    0.696237\n",
       "1    0.303763\n",
       "Name: is_canceled, dtype: float64"
      ]
     },
     "execution_count": 141,
     "metadata": {},
     "output_type": "execute_result"
    }
   ],
   "source": [
    "data_analisis[data_analisis['reserved_room_type']=='F']['is_canceled'].value_counts(normalize=True)"
   ]
  },
  {
   "cell_type": "code",
   "execution_count": 142,
   "metadata": {},
   "outputs": [
    {
     "data": {
      "text/plain": [
       "0    0.635626\n",
       "1    0.364374\n",
       "Name: is_canceled, dtype: float64"
      ]
     },
     "execution_count": 142,
     "metadata": {},
     "output_type": "execute_result"
    }
   ],
   "source": [
    "data_analisis[data_analisis['reserved_room_type']=='G']['is_canceled'].value_counts(normalize=True)"
   ]
  },
  {
   "cell_type": "code",
   "execution_count": 143,
   "metadata": {},
   "outputs": [
    {
     "data": {
      "text/plain": [
       "0    0.670841\n",
       "1    0.329159\n",
       "Name: is_canceled, dtype: float64"
      ]
     },
     "execution_count": 143,
     "metadata": {},
     "output_type": "execute_result"
    }
   ],
   "source": [
    "data_analisis[data_analisis['reserved_room_type']=='B']['is_canceled'].value_counts(normalize=True)"
   ]
  },
  {
   "cell_type": "code",
   "execution_count": 145,
   "metadata": {},
   "outputs": [
    {
     "data": {
      "text/plain": [
       "0    0.669528\n",
       "1    0.330472\n",
       "Name: is_canceled, dtype: float64"
      ]
     },
     "execution_count": 145,
     "metadata": {},
     "output_type": "execute_result"
    }
   ],
   "source": [
    "data_analisis[data_analisis['reserved_room_type']=='C']['is_canceled'].value_counts(normalize=True)"
   ]
  },
  {
   "cell_type": "code",
   "execution_count": 146,
   "metadata": {},
   "outputs": [
    {
     "data": {
      "text/plain": [
       "0    0.592346\n",
       "1    0.407654\n",
       "Name: is_canceled, dtype: float64"
      ]
     },
     "execution_count": 146,
     "metadata": {},
     "output_type": "execute_result"
    }
   ],
   "source": [
    "data_analisis[data_analisis['reserved_room_type']=='H']['is_canceled'].value_counts(normalize=True)"
   ]
  },
  {
   "cell_type": "code",
   "execution_count": 147,
   "metadata": {},
   "outputs": [
    {
     "data": {
      "text/plain": [
       "1    1.0\n",
       "Name: is_canceled, dtype: float64"
      ]
     },
     "execution_count": 147,
     "metadata": {},
     "output_type": "execute_result"
    }
   ],
   "source": [
    "data_analisis[data_analisis['reserved_room_type']=='P']['is_canceled'].value_counts(normalize=True)"
   ]
  },
  {
   "cell_type": "code",
   "execution_count": 149,
   "metadata": {},
   "outputs": [
    {
     "data": {
      "text/plain": [
       "0    0.666667\n",
       "1    0.333333\n",
       "Name: is_canceled, dtype: float64"
      ]
     },
     "execution_count": 149,
     "metadata": {},
     "output_type": "execute_result"
    }
   ],
   "source": [
    "data_analisis[data_analisis['reserved_room_type']=='L']['is_canceled'].value_counts(normalize=True)"
   ]
  },
  {
   "cell_type": "code",
   "execution_count": 279,
   "metadata": {},
   "outputs": [],
   "source": [
    "def impute_reserved(cols):\n",
    "    reserved = cols[0]\n",
    "    \n",
    "    if (reserved == 'P'):\n",
    "        return 1\n",
    "    else:\n",
    "        return 0\n",
    "data_analisis['reserved_P'] = data_analisis[['reserved_room_type']].apply(impute_reserved,axis=1)"
   ]
  },
  {
   "cell_type": "code",
   "execution_count": 175,
   "metadata": {},
   "outputs": [
    {
     "data": {
      "text/plain": [
       "A    74053\n",
       "D    25322\n",
       "E     7806\n",
       "F     3751\n",
       "G     2553\n",
       "C     2375\n",
       "B     2163\n",
       "H      712\n",
       "I      363\n",
       "K      279\n",
       "P       12\n",
       "L        1\n",
       "Name: assigned_room_type, dtype: int64"
      ]
     },
     "execution_count": 175,
     "metadata": {},
     "output_type": "execute_result"
    }
   ],
   "source": [
    "data_analisis['assigned_room_type'].value_counts()"
   ]
  },
  {
   "cell_type": "code",
   "execution_count": 152,
   "metadata": {},
   "outputs": [
    {
     "data": {
      "text/plain": [
       "0    0.555075\n",
       "1    0.444925\n",
       "Name: is_canceled, dtype: float64"
      ]
     },
     "execution_count": 152,
     "metadata": {},
     "output_type": "execute_result"
    }
   ],
   "source": [
    "data_analisis[data_analisis['assigned_room_type']=='A']['is_canceled'].value_counts(normalize=True)"
   ]
  },
  {
   "cell_type": "code",
   "execution_count": 153,
   "metadata": {},
   "outputs": [
    {
     "data": {
      "text/plain": [
       "0    0.748756\n",
       "1    0.251244\n",
       "Name: is_canceled, dtype: float64"
      ]
     },
     "execution_count": 153,
     "metadata": {},
     "output_type": "execute_result"
    }
   ],
   "source": [
    "data_analisis[data_analisis['assigned_room_type']=='D']['is_canceled'].value_counts(normalize=True)"
   ]
  },
  {
   "cell_type": "code",
   "execution_count": 154,
   "metadata": {},
   "outputs": [
    {
     "data": {
      "text/plain": [
       "0    0.747886\n",
       "1    0.252114\n",
       "Name: is_canceled, dtype: float64"
      ]
     },
     "execution_count": 154,
     "metadata": {},
     "output_type": "execute_result"
    }
   ],
   "source": [
    "data_analisis[data_analisis['assigned_room_type']=='E']['is_canceled'].value_counts(normalize=True)"
   ]
  },
  {
   "cell_type": "code",
   "execution_count": 155,
   "metadata": {},
   "outputs": [
    {
     "data": {
      "text/plain": [
       "0    0.752866\n",
       "1    0.247134\n",
       "Name: is_canceled, dtype: float64"
      ]
     },
     "execution_count": 155,
     "metadata": {},
     "output_type": "execute_result"
    }
   ],
   "source": [
    "data_analisis[data_analisis['assigned_room_type']=='F']['is_canceled'].value_counts(normalize=True)"
   ]
  },
  {
   "cell_type": "code",
   "execution_count": 156,
   "metadata": {},
   "outputs": [
    {
     "data": {
      "text/plain": [
       "0    0.694477\n",
       "1    0.305523\n",
       "Name: is_canceled, dtype: float64"
      ]
     },
     "execution_count": 156,
     "metadata": {},
     "output_type": "execute_result"
    }
   ],
   "source": [
    "data_analisis[data_analisis['assigned_room_type']=='G']['is_canceled'].value_counts(normalize=True)"
   ]
  },
  {
   "cell_type": "code",
   "execution_count": 157,
   "metadata": {},
   "outputs": [
    {
     "data": {
      "text/plain": [
       "0    0.812211\n",
       "1    0.187789\n",
       "Name: is_canceled, dtype: float64"
      ]
     },
     "execution_count": 157,
     "metadata": {},
     "output_type": "execute_result"
    }
   ],
   "source": [
    "data_analisis[data_analisis['assigned_room_type']=='C']['is_canceled'].value_counts(normalize=True)"
   ]
  },
  {
   "cell_type": "code",
   "execution_count": 158,
   "metadata": {},
   "outputs": [
    {
     "data": {
      "text/plain": [
       "0    0.763292\n",
       "1    0.236708\n",
       "Name: is_canceled, dtype: float64"
      ]
     },
     "execution_count": 158,
     "metadata": {},
     "output_type": "execute_result"
    }
   ],
   "source": [
    "data_analisis[data_analisis['assigned_room_type']=='B']['is_canceled'].value_counts(normalize=True)"
   ]
  },
  {
   "cell_type": "code",
   "execution_count": 159,
   "metadata": {},
   "outputs": [
    {
     "data": {
      "text/plain": [
       "0    0.647472\n",
       "1    0.352528\n",
       "Name: is_canceled, dtype: float64"
      ]
     },
     "execution_count": 159,
     "metadata": {},
     "output_type": "execute_result"
    }
   ],
   "source": [
    "data_analisis[data_analisis['assigned_room_type']=='H']['is_canceled'].value_counts(normalize=True)"
   ]
  },
  {
   "cell_type": "code",
   "execution_count": 160,
   "metadata": {},
   "outputs": [
    {
     "data": {
      "text/plain": [
       "0    0.986226\n",
       "1    0.013774\n",
       "Name: is_canceled, dtype: float64"
      ]
     },
     "execution_count": 160,
     "metadata": {},
     "output_type": "execute_result"
    }
   ],
   "source": [
    "data_analisis[data_analisis['assigned_room_type']=='I']['is_canceled'].value_counts(normalize=True)"
   ]
  },
  {
   "cell_type": "code",
   "execution_count": 161,
   "metadata": {},
   "outputs": [
    {
     "data": {
      "text/plain": [
       "0    0.956989\n",
       "1    0.043011\n",
       "Name: is_canceled, dtype: float64"
      ]
     },
     "execution_count": 161,
     "metadata": {},
     "output_type": "execute_result"
    }
   ],
   "source": [
    "data_analisis[data_analisis['assigned_room_type']=='K']['is_canceled'].value_counts(normalize=True)"
   ]
  },
  {
   "cell_type": "code",
   "execution_count": 162,
   "metadata": {},
   "outputs": [
    {
     "data": {
      "text/plain": [
       "1    1.0\n",
       "Name: is_canceled, dtype: float64"
      ]
     },
     "execution_count": 162,
     "metadata": {},
     "output_type": "execute_result"
    }
   ],
   "source": [
    "data_analisis[data_analisis['assigned_room_type']=='P']['is_canceled'].value_counts(normalize=True)"
   ]
  },
  {
   "cell_type": "code",
   "execution_count": 163,
   "metadata": {},
   "outputs": [
    {
     "data": {
      "text/plain": [
       "1    1.0\n",
       "Name: is_canceled, dtype: float64"
      ]
     },
     "execution_count": 163,
     "metadata": {},
     "output_type": "execute_result"
    }
   ],
   "source": [
    "data_analisis[data_analisis['assigned_room_type']=='L']['is_canceled'].value_counts(normalize=True)"
   ]
  },
  {
   "cell_type": "code",
   "execution_count": 280,
   "metadata": {},
   "outputs": [],
   "source": [
    "def impute_assigned(cols):\n",
    "    assigned = cols[0]\n",
    "    \n",
    "    if (assigned == 'P') | (assigned == 'L'):\n",
    "        return 1\n",
    "    else:\n",
    "        return 0\n",
    "data_analisis['assigned_PL'] = data_analisis[['assigned_room_type']].apply(impute_assigned,axis=1)"
   ]
  },
  {
   "cell_type": "code",
   "execution_count": 281,
   "metadata": {},
   "outputs": [],
   "source": [
    "def impute_assigned2(cols):\n",
    "    assigned = cols[0]\n",
    "    \n",
    "    if (assigned == 'I') | (assigned == 'K'):\n",
    "        return 1\n",
    "    else:\n",
    "        return 0\n",
    "data_analisis['assigned_IK'] = data_analisis[['assigned_room_type']].apply(impute_assigned2,axis=1)"
   ]
  },
  {
   "cell_type": "code",
   "execution_count": 282,
   "metadata": {},
   "outputs": [],
   "source": [
    "def impute_assigned3(cols):\n",
    "    assigned = cols[0]\n",
    "    \n",
    "    if (assigned == 'A'):\n",
    "        return 1\n",
    "    else:\n",
    "        return 0\n",
    "data_analisis['assigned_A'] = data_analisis[['assigned_room_type']].apply(impute_assigned3,axis=1)"
   ]
  },
  {
   "cell_type": "markdown",
   "metadata": {},
   "source": [
    "## 16. booking_changes"
   ]
  },
  {
   "cell_type": "code",
   "execution_count": 167,
   "metadata": {},
   "outputs": [
    {
     "data": {
      "text/plain": [
       "0    0.857728\n",
       "1    0.142272\n",
       "Name: is_canceled, dtype: float64"
      ]
     },
     "execution_count": 167,
     "metadata": {},
     "output_type": "execute_result"
    }
   ],
   "source": [
    "data_analisis[data_analisis['booking_changes']==1]['is_canceled'].value_counts(normalize=True)"
   ]
  },
  {
   "cell_type": "code",
   "execution_count": 168,
   "metadata": {},
   "outputs": [
    {
     "data": {
      "text/plain": [
       "0    0.591458\n",
       "1    0.408542\n",
       "Name: is_canceled, dtype: float64"
      ]
     },
     "execution_count": 168,
     "metadata": {},
     "output_type": "execute_result"
    }
   ],
   "source": [
    "data_analisis[data_analisis['booking_changes']==0]['is_canceled'].value_counts(normalize=True)"
   ]
  },
  {
   "cell_type": "markdown",
   "metadata": {},
   "source": [
    "## 16. deposit_type"
   ]
  },
  {
   "cell_type": "code",
   "execution_count": 19,
   "metadata": {},
   "outputs": [],
   "source": [
    "data_analisis = pd.get_dummies(data_analisis, columns=['deposit_type'])"
   ]
  },
  {
   "cell_type": "code",
   "execution_count": 173,
   "metadata": {},
   "outputs": [
    {
     "data": {
      "text/plain": [
       "No Deposit    104641\n",
       "Non Refund     14587\n",
       "Refundable       162\n",
       "Name: deposit_type, dtype: int64"
      ]
     },
     "execution_count": 173,
     "metadata": {},
     "output_type": "execute_result"
    }
   ],
   "source": [
    "data_analisis['deposit_type'].value_counts()"
   ]
  },
  {
   "cell_type": "code",
   "execution_count": 170,
   "metadata": {},
   "outputs": [
    {
     "data": {
      "text/plain": [
       "0    0.71623\n",
       "1    0.28377\n",
       "Name: is_canceled, dtype: float64"
      ]
     },
     "execution_count": 170,
     "metadata": {},
     "output_type": "execute_result"
    }
   ],
   "source": [
    "data_analisis[data_analisis['deposit_type']=='No Deposit']['is_canceled'].value_counts(normalize=True)"
   ]
  },
  {
   "cell_type": "code",
   "execution_count": 171,
   "metadata": {},
   "outputs": [
    {
     "data": {
      "text/plain": [
       "1    0.993624\n",
       "0    0.006376\n",
       "Name: is_canceled, dtype: float64"
      ]
     },
     "execution_count": 171,
     "metadata": {},
     "output_type": "execute_result"
    }
   ],
   "source": [
    "data_analisis[data_analisis['deposit_type']=='Non Refund']['is_canceled'].value_counts(normalize=True)"
   ]
  },
  {
   "cell_type": "code",
   "execution_count": 172,
   "metadata": {},
   "outputs": [
    {
     "data": {
      "text/plain": [
       "0    0.777778\n",
       "1    0.222222\n",
       "Name: is_canceled, dtype: float64"
      ]
     },
     "execution_count": 172,
     "metadata": {},
     "output_type": "execute_result"
    }
   ],
   "source": [
    "data_analisis[data_analisis['deposit_type']=='Refundable']['is_canceled'].value_counts(normalize=True)"
   ]
  },
  {
   "cell_type": "code",
   "execution_count": 283,
   "metadata": {},
   "outputs": [],
   "source": [
    "def impute_deposit(cols):\n",
    "    deposit = cols[0]\n",
    "    \n",
    "    if (deposit == 'Non Refund'):\n",
    "        return 1\n",
    "    else:\n",
    "        return 0\n",
    "data_analisis['deposit_nonrefund'] = data_analisis[['deposit_type']].apply(impute_deposit,axis=1)"
   ]
  },
  {
   "cell_type": "markdown",
   "metadata": {},
   "source": [
    "## 17. agent & company"
   ]
  },
  {
   "cell_type": "code",
   "execution_count": 22,
   "metadata": {},
   "outputs": [
    {
     "data": {
      "text/plain": [
       "0    0.753366\n",
       "1    0.246634\n",
       "Name: is_canceled, dtype: float64"
      ]
     },
     "execution_count": 22,
     "metadata": {},
     "output_type": "execute_result"
    }
   ],
   "source": [
    "data_analisis[data_analisis['agent'].isnull()]['is_canceled'].value_counts(normalize=True)"
   ]
  },
  {
   "cell_type": "code",
   "execution_count": 31,
   "metadata": {},
   "outputs": [
    {
     "data": {
      "text/plain": [
       "0.943068933746545"
      ]
     },
     "execution_count": 31,
     "metadata": {},
     "output_type": "execute_result"
    }
   ],
   "source": [
    "data_analisis[data_analisis['company'].isnull()]['is_canceled'].count()/119390"
   ]
  },
  {
   "cell_type": "code",
   "execution_count": 27,
   "metadata": {},
   "outputs": [],
   "source": [
    "def impute_agent(cols):\n",
    "    agent = cols[0]\n",
    "    \n",
    "    if pd.isnull(agent):\n",
    "        return 9.0\n",
    "    else:\n",
    "        return agent\n",
    "data_analisis['agent'] = data_analisis[['agent']].apply(impute_agent,axis=1)"
   ]
  },
  {
   "cell_type": "code",
   "execution_count": 20,
   "metadata": {},
   "outputs": [],
   "source": [
    "data_analisis = pd.get_dummies(data_analisis, columns=['agent'])"
   ]
  },
  {
   "cell_type": "code",
   "execution_count": 179,
   "metadata": {},
   "outputs": [
    {
     "data": {
      "text/plain": [
       "9.0      31961\n",
       "240.0    13922\n",
       "1.0       7191\n",
       "14.0      3640\n",
       "7.0       3539\n",
       "         ...  \n",
       "213.0        1\n",
       "433.0        1\n",
       "197.0        1\n",
       "367.0        1\n",
       "337.0        1\n",
       "Name: agent, Length: 333, dtype: int64"
      ]
     },
     "execution_count": 179,
     "metadata": {},
     "output_type": "execute_result"
    }
   ],
   "source": [
    "data_analisis['agent'].value_counts()"
   ]
  },
  {
   "cell_type": "code",
   "execution_count": 180,
   "metadata": {},
   "outputs": [
    {
     "data": {
      "text/plain": [
       "0    0.584994\n",
       "1    0.415006\n",
       "Name: is_canceled, dtype: float64"
      ]
     },
     "execution_count": 180,
     "metadata": {},
     "output_type": "execute_result"
    }
   ],
   "source": [
    "data_analisis[data_analisis['agent']==9.0]['is_canceled'].value_counts(normalize=True)"
   ]
  },
  {
   "cell_type": "code",
   "execution_count": 182,
   "metadata": {},
   "outputs": [
    {
     "data": {
      "text/plain": [
       "0    0.606091\n",
       "1    0.393909\n",
       "Name: is_canceled, dtype: float64"
      ]
     },
     "execution_count": 182,
     "metadata": {},
     "output_type": "execute_result"
    }
   ],
   "source": [
    "data_analisis[data_analisis['agent']==240.0]['is_canceled'].value_counts(normalize=True)"
   ]
  },
  {
   "cell_type": "code",
   "execution_count": 184,
   "metadata": {},
   "outputs": [
    {
     "data": {
      "text/plain": [
       "0    0.653421\n",
       "1    0.346579\n",
       "Name: is_canceled, dtype: float64"
      ]
     },
     "execution_count": 184,
     "metadata": {},
     "output_type": "execute_result"
    }
   ],
   "source": [
    "data_analisis[(data_analisis['agent']!=9.0) & (data_analisis['agent']!=240.0)]['is_canceled'].value_counts(normalize=True)"
   ]
  },
  {
   "cell_type": "code",
   "execution_count": 190,
   "metadata": {},
   "outputs": [
    {
     "data": {
      "text/plain": [
       "0    0.591396\n",
       "1    0.408604\n",
       "Name: is_canceled, dtype: float64"
      ]
     },
     "execution_count": 190,
     "metadata": {},
     "output_type": "execute_result"
    }
   ],
   "source": [
    "data_analisis[(data_analisis['agent']==9.0) | (data_analisis['agent']==240.0)]['is_canceled'].value_counts(normalize=True)"
   ]
  },
  {
   "cell_type": "code",
   "execution_count": 284,
   "metadata": {},
   "outputs": [],
   "source": [
    "def impute_agent(cols):\n",
    "    agent = cols[0]\n",
    "    \n",
    "    if (agent == 9.0) | (agent == 240.0):\n",
    "        return 1\n",
    "    else:\n",
    "        return 0\n",
    "data_analisis['agent_9_240'] = data_analisis[['agent']].apply(impute_agent,axis=1)"
   ]
  },
  {
   "cell_type": "code",
   "execution_count": 178,
   "metadata": {},
   "outputs": [
    {
     "data": {
      "text/plain": [
       "40.0     927\n",
       "223.0    784\n",
       "67.0     267\n",
       "45.0     250\n",
       "153.0    215\n",
       "        ... \n",
       "229.0      1\n",
       "213.0      1\n",
       "416.0      1\n",
       "320.0      1\n",
       "461.0      1\n",
       "Name: company, Length: 352, dtype: int64"
      ]
     },
     "execution_count": 178,
     "metadata": {},
     "output_type": "execute_result"
    }
   ],
   "source": [
    "data_analisis['company'].value_counts()"
   ]
  },
  {
   "cell_type": "code",
   "execution_count": 186,
   "metadata": {},
   "outputs": [
    {
     "data": {
      "text/plain": [
       "0    0.916936\n",
       "1    0.083064\n",
       "Name: is_canceled, dtype: float64"
      ]
     },
     "execution_count": 186,
     "metadata": {},
     "output_type": "execute_result"
    }
   ],
   "source": [
    "data_analisis[data_analisis['company']==40.0]['is_canceled'].value_counts(normalize=True)"
   ]
  },
  {
   "cell_type": "code",
   "execution_count": 187,
   "metadata": {},
   "outputs": [
    {
     "data": {
      "text/plain": [
       "0    0.848214\n",
       "1    0.151786\n",
       "Name: is_canceled, dtype: float64"
      ]
     },
     "execution_count": 187,
     "metadata": {},
     "output_type": "execute_result"
    }
   ],
   "source": [
    "data_analisis[data_analisis['company']==223.0]['is_canceled'].value_counts(normalize=True)"
   ]
  },
  {
   "cell_type": "code",
   "execution_count": 188,
   "metadata": {},
   "outputs": [
    {
     "data": {
      "text/plain": [
       "0    0.626985\n",
       "1    0.373015\n",
       "Name: is_canceled, dtype: float64"
      ]
     },
     "execution_count": 188,
     "metadata": {},
     "output_type": "execute_result"
    }
   ],
   "source": [
    "data_analisis[(data_analisis['agent']!=40.0) & (data_analisis['agent']!=223.0)]['is_canceled'].value_counts(normalize=True)"
   ]
  },
  {
   "cell_type": "code",
   "execution_count": 189,
   "metadata": {},
   "outputs": [
    {
     "data": {
      "text/plain": [
       "0    0.92053\n",
       "1    0.07947\n",
       "Name: is_canceled, dtype: float64"
      ]
     },
     "execution_count": 189,
     "metadata": {},
     "output_type": "execute_result"
    }
   ],
   "source": [
    "data_analisis[(data_analisis['agent']==40.0) | (data_analisis['agent']==223.0)]['is_canceled'].value_counts(normalize=True)"
   ]
  },
  {
   "cell_type": "code",
   "execution_count": 285,
   "metadata": {},
   "outputs": [],
   "source": [
    "def impute_company(cols):\n",
    "    company = cols[0]\n",
    "    \n",
    "    if (company == 40.0) | (company == 223.0):\n",
    "        return 1\n",
    "    else:\n",
    "        return 0\n",
    "data_analisis['company_40_223'] = data_analisis[['company']].apply(impute_company,axis=1)"
   ]
  },
  {
   "cell_type": "code",
   "execution_count": 286,
   "metadata": {},
   "outputs": [
    {
     "data": {
      "text/plain": [
       "0    0.591396\n",
       "1    0.408604\n",
       "Name: is_canceled, dtype: float64"
      ]
     },
     "execution_count": 286,
     "metadata": {},
     "output_type": "execute_result"
    }
   ],
   "source": [
    "data_analisis[data_analisis['agent_9_240']==1]['is_canceled'].value_counts(normalize=True)"
   ]
  },
  {
   "cell_type": "code",
   "execution_count": 198,
   "metadata": {},
   "outputs": [
    {
     "data": {
      "text/plain": [
       "0    0.885447\n",
       "1    0.114553\n",
       "Name: is_canceled, dtype: float64"
      ]
     },
     "execution_count": 198,
     "metadata": {},
     "output_type": "execute_result"
    }
   ],
   "source": [
    "data_analisis[data_analisis['company_40_223']==1]['is_canceled'].value_counts(normalize=True)"
   ]
  },
  {
   "cell_type": "markdown",
   "metadata": {},
   "source": [
    "## 18. days_in_waiting_list"
   ]
  },
  {
   "cell_type": "code",
   "execution_count": 210,
   "metadata": {},
   "outputs": [
    {
     "data": {
      "text/plain": [
       "(0, 100)"
      ]
     },
     "execution_count": 210,
     "metadata": {},
     "output_type": "execute_result"
    },
    {
     "data": {
      "image/png": "[encoded data removed]",
      "text/plain": [
       "<Figure size 864x432 with 1 Axes>"
      ]
     },
     "metadata": {
      "needs_background": "light"
     },
     "output_type": "display_data"
    }
   ],
   "source": [
    "plt.figure(figsize=(12,6))\n",
    "plt.title('Sebaran days_in_waiting_list berdasarkan pembatalan')\n",
    "data_analisis[(data_analisis['is_canceled']==0)]['days_in_waiting_list'].hist(alpha=0.5,bins=390,color='blue',grid=False)\n",
    "data_analisis[(data_analisis['is_canceled']==1)]['days_in_waiting_list'].hist(alpha=0.5,bins=390,color='red',grid=False)\n",
    "plt.legend(loc='upper right',labels=['Tamu Hotel','Pembatalan Reservasi'])\n",
    "plt.xlim(0,100)\n",
    "plt.ylim(0,100)"
   ]
  },
  {
   "cell_type": "code",
   "execution_count": 207,
   "metadata": {},
   "outputs": [
    {
     "data": {
      "text/plain": [
       "0      115692\n",
       "39        227\n",
       "58        164\n",
       "44        141\n",
       "31        127\n",
       "        ...  \n",
       "175         1\n",
       "117         1\n",
       "89          1\n",
       "92          1\n",
       "183         1\n",
       "Name: days_in_waiting_list, Length: 128, dtype: int64"
      ]
     },
     "execution_count": 207,
     "metadata": {},
     "output_type": "execute_result"
    }
   ],
   "source": [
    "data_analisis['days_in_waiting_list'].value_counts()"
   ]
  },
  {
   "cell_type": "code",
   "execution_count": 287,
   "metadata": {},
   "outputs": [],
   "source": [
    "def impute_waiting(cols):\n",
    "    waiting = cols[0]\n",
    "    \n",
    "    if (waiting == 0):\n",
    "        return 1\n",
    "    else:\n",
    "        return 0\n",
    "data_analisis['no_waiting'] = data_analisis[['days_in_waiting_list']].apply(impute_waiting,axis=1)"
   ]
  },
  {
   "cell_type": "markdown",
   "metadata": {},
   "source": [
    "## 19. customer_types"
   ]
  },
  {
   "cell_type": "code",
   "execution_count": 21,
   "metadata": {},
   "outputs": [],
   "source": [
    "data_analisis = pd.get_dummies(data_analisis, columns=['customer_type'])"
   ]
  },
  {
   "cell_type": "code",
   "execution_count": 213,
   "metadata": {},
   "outputs": [
    {
     "data": {
      "text/plain": [
       "Transient          89613\n",
       "Transient-Party    25124\n",
       "Contract            4076\n",
       "Group                577\n",
       "Name: customer_type, dtype: int64"
      ]
     },
     "execution_count": 213,
     "metadata": {},
     "output_type": "execute_result"
    }
   ],
   "source": [
    "data_analisis['customer_type'].value_counts()"
   ]
  },
  {
   "cell_type": "code",
   "execution_count": 214,
   "metadata": {},
   "outputs": [
    {
     "data": {
      "text/plain": [
       "0    0.592537\n",
       "1    0.407463\n",
       "Name: is_canceled, dtype: float64"
      ]
     },
     "execution_count": 214,
     "metadata": {},
     "output_type": "execute_result"
    }
   ],
   "source": [
    "data_analisis[data_analisis['customer_type']=='Transient']['is_canceled'].value_counts(normalize=True)"
   ]
  },
  {
   "cell_type": "code",
   "execution_count": 215,
   "metadata": {},
   "outputs": [
    {
     "data": {
      "text/plain": [
       "0    0.745701\n",
       "1    0.254299\n",
       "Name: is_canceled, dtype: float64"
      ]
     },
     "execution_count": 215,
     "metadata": {},
     "output_type": "execute_result"
    }
   ],
   "source": [
    "data_analisis[data_analisis['customer_type']=='Transient-Party']['is_canceled'].value_counts(normalize=True)"
   ]
  },
  {
   "cell_type": "code",
   "execution_count": 216,
   "metadata": {},
   "outputs": [
    {
     "data": {
      "text/plain": [
       "0    0.690383\n",
       "1    0.309617\n",
       "Name: is_canceled, dtype: float64"
      ]
     },
     "execution_count": 216,
     "metadata": {},
     "output_type": "execute_result"
    }
   ],
   "source": [
    "data_analisis[data_analisis['customer_type']=='Contract']['is_canceled'].value_counts(normalize=True)"
   ]
  },
  {
   "cell_type": "code",
   "execution_count": 217,
   "metadata": {},
   "outputs": [
    {
     "data": {
      "text/plain": [
       "0    0.897747\n",
       "1    0.102253\n",
       "Name: is_canceled, dtype: float64"
      ]
     },
     "execution_count": 217,
     "metadata": {},
     "output_type": "execute_result"
    }
   ],
   "source": [
    "data_analisis[data_analisis['customer_type']=='Group']['is_canceled'].value_counts(normalize=True)"
   ]
  },
  {
   "cell_type": "code",
   "execution_count": 288,
   "metadata": {},
   "outputs": [],
   "source": [
    "def impute_type(cols):\n",
    "    types = cols[0]\n",
    "    \n",
    "    if (types == 'Group'):\n",
    "        return 1\n",
    "    else:\n",
    "        return 0\n",
    "data_analisis['types_Group'] = data_analisis[['customer_type']].apply(impute_type,axis=1)"
   ]
  },
  {
   "cell_type": "code",
   "execution_count": 289,
   "metadata": {},
   "outputs": [],
   "source": [
    "def impute_type2(cols):\n",
    "    types = cols[0]\n",
    "    \n",
    "    if (types == 'Transient'):\n",
    "        return 1\n",
    "    else:\n",
    "        return 0\n",
    "data_analisis['types_Transient'] = data_analisis[['customer_type']].apply(impute_type2,axis=1)"
   ]
  },
  {
   "cell_type": "markdown",
   "metadata": {},
   "source": [
    "## 20. adr"
   ]
  },
  {
   "cell_type": "code",
   "execution_count": 220,
   "metadata": {},
   "outputs": [
    {
     "data": {
      "text/plain": [
       "62.00     3754\n",
       "75.00     2715\n",
       "90.00     2473\n",
       "65.00     2418\n",
       "0.00      1959\n",
       "          ... \n",
       "202.74       1\n",
       "87.64        1\n",
       "69.83        1\n",
       "160.83       1\n",
       "35.64        1\n",
       "Name: adr, Length: 8879, dtype: int64"
      ]
     },
     "execution_count": 220,
     "metadata": {},
     "output_type": "execute_result"
    }
   ],
   "source": [
    "data_analisis['adr'].value_counts()"
   ]
  },
  {
   "cell_type": "code",
   "execution_count": 226,
   "metadata": {},
   "outputs": [
    {
     "data": {
      "text/plain": [
       "(-30, 300)"
      ]
     },
     "execution_count": 226,
     "metadata": {},
     "output_type": "execute_result"
    },
    {
     "data": {
      "image/png": "[encoded data removed]",
      "text/plain": [
       "<Figure size 432x288 with 1 Axes>"
      ]
     },
     "metadata": {
      "needs_background": "light"
     },
     "output_type": "display_data"
    }
   ],
   "source": [
    "plt.title(\"Perbandingan rata-rata harga cancel dan tidak\")\n",
    "sns.boxplot(x='is_canceled',y='adr',data=data_analisis)\n",
    "plt.ylim(-30,300)"
   ]
  },
  {
   "cell_type": "markdown",
   "metadata": {},
   "source": [
    "## 21. required_car_parking_spaces"
   ]
  },
  {
   "cell_type": "code",
   "execution_count": 240,
   "metadata": {},
   "outputs": [
    {
     "data": {
      "text/plain": [
       "0    44224\n",
       "Name: required_car_parking_spaces, dtype: int64"
      ]
     },
     "execution_count": 240,
     "metadata": {},
     "output_type": "execute_result"
    }
   ],
   "source": [
    "data_analisis[data_analisis['is_canceled']==1]['required_car_parking_spaces'].value_counts()"
   ]
  },
  {
   "cell_type": "code",
   "execution_count": 241,
   "metadata": {},
   "outputs": [
    {
     "data": {
      "text/plain": [
       "0    7416\n",
       "Name: is_canceled, dtype: int64"
      ]
     },
     "execution_count": 241,
     "metadata": {},
     "output_type": "execute_result"
    }
   ],
   "source": [
    "data_analisis[data_analisis['required_car_parking_spaces']>0]['is_canceled'].value_counts()"
   ]
  },
  {
   "cell_type": "code",
   "execution_count": 290,
   "metadata": {},
   "outputs": [],
   "source": [
    "def impute_parking(cols):\n",
    "    parking = cols[0]\n",
    "    \n",
    "    if (parking > 0):\n",
    "        return 1\n",
    "    else:\n",
    "        return 0\n",
    "data_analisis['parking'] = data_analisis[['required_car_parking_spaces']].apply(impute_parking,axis=1)"
   ]
  },
  {
   "cell_type": "markdown",
   "metadata": {},
   "source": [
    "## 22. total_of_special_requests"
   ]
  },
  {
   "cell_type": "code",
   "execution_count": 243,
   "metadata": {},
   "outputs": [
    {
     "data": {
      "text/plain": [
       "0    33556\n",
       "1     7318\n",
       "2     2866\n",
       "3      446\n",
       "4       36\n",
       "5        2\n",
       "Name: total_of_special_requests, dtype: int64"
      ]
     },
     "execution_count": 243,
     "metadata": {},
     "output_type": "execute_result"
    }
   ],
   "source": [
    "data_analisis[data_analisis['is_canceled']==1]['total_of_special_requests'].value_counts()"
   ]
  },
  {
   "cell_type": "code",
   "execution_count": 244,
   "metadata": {},
   "outputs": [
    {
     "data": {
      "text/plain": [
       "0    70318\n",
       "1    33226\n",
       "2    12969\n",
       "3     2497\n",
       "4      340\n",
       "5       40\n",
       "Name: total_of_special_requests, dtype: int64"
      ]
     },
     "execution_count": 244,
     "metadata": {},
     "output_type": "execute_result"
    }
   ],
   "source": [
    "data_analisis['total_of_special_requests'].value_counts()"
   ]
  },
  {
   "cell_type": "code",
   "execution_count": 245,
   "metadata": {},
   "outputs": [
    {
     "data": {
      "text/plain": [
       "0    0.522796\n",
       "1    0.477204\n",
       "Name: is_canceled, dtype: float64"
      ]
     },
     "execution_count": 245,
     "metadata": {},
     "output_type": "execute_result"
    }
   ],
   "source": [
    "data_analisis[data_analisis['total_of_special_requests']==0]['is_canceled'].value_counts(normalize=True)"
   ]
  },
  {
   "cell_type": "code",
   "execution_count": 246,
   "metadata": {},
   "outputs": [
    {
     "data": {
      "text/plain": [
       "0    0.782605\n",
       "1    0.217395\n",
       "Name: is_canceled, dtype: float64"
      ]
     },
     "execution_count": 246,
     "metadata": {},
     "output_type": "execute_result"
    }
   ],
   "source": [
    "data_analisis[data_analisis['total_of_special_requests']>0]['is_canceled'].value_counts(normalize=True)"
   ]
  },
  {
   "cell_type": "code",
   "execution_count": 291,
   "metadata": {},
   "outputs": [],
   "source": [
    "def impute_requests(cols):\n",
    "    requests = cols[0]\n",
    "    \n",
    "    if (requests > 0):\n",
    "        return 1\n",
    "    else:\n",
    "        return 0\n",
    "data_analisis['requests'] = data_analisis[['total_of_special_requests']].apply(impute_requests,axis=1)"
   ]
  },
  {
   "cell_type": "markdown",
   "metadata": {},
   "source": [
    "## 23. reservation_status"
   ]
  },
  {
   "cell_type": "code",
   "execution_count": 248,
   "metadata": {},
   "outputs": [
    {
     "data": {
      "text/plain": [
       "Check-Out    75166\n",
       "Canceled     43017\n",
       "No-Show       1207\n",
       "Name: reservation_status, dtype: int64"
      ]
     },
     "execution_count": 248,
     "metadata": {},
     "output_type": "execute_result"
    }
   ],
   "source": [
    "data_analisis['reservation_status'].value_counts()"
   ]
  },
  {
   "cell_type": "code",
   "execution_count": 250,
   "metadata": {},
   "outputs": [
    {
     "data": {
      "text/plain": [
       "0    1.0\n",
       "Name: is_canceled, dtype: float64"
      ]
     },
     "execution_count": 250,
     "metadata": {},
     "output_type": "execute_result"
    }
   ],
   "source": [
    "data_analisis[data_analisis['reservation_status']=='Check-Out']['is_canceled'].value_counts(normalize=True)"
   ]
  },
  {
   "cell_type": "code",
   "execution_count": 251,
   "metadata": {},
   "outputs": [
    {
     "data": {
      "text/plain": [
       "1    1.0\n",
       "Name: is_canceled, dtype: float64"
      ]
     },
     "execution_count": 251,
     "metadata": {},
     "output_type": "execute_result"
    }
   ],
   "source": [
    "data_analisis[data_analisis['reservation_status']=='Canceled']['is_canceled'].value_counts(normalize=True)"
   ]
  },
  {
   "cell_type": "markdown",
   "metadata": {},
   "source": [
    "## Data Manipulation"
   ]
  },
  {
   "cell_type": "code",
   "execution_count": 35,
   "metadata": {},
   "outputs": [
    {
     "name": "stdout",
     "output_type": "stream",
     "text": [
      "<class 'pandas.core.frame.DataFrame'>\n",
      "RangeIndex: 119390 entries, 0 to 119389\n",
      "Data columns (total 32 columns):\n",
      " #   Column                          Non-Null Count   Dtype  \n",
      "---  ------                          --------------   -----  \n",
      " 0   hotel                           119390 non-null  object \n",
      " 1   is_canceled                     119390 non-null  int64  \n",
      " 2   lead_time                       119390 non-null  int64  \n",
      " 3   arrival_date_year               119390 non-null  int64  \n",
      " 4   arrival_date_month              119390 non-null  object \n",
      " 5   arrival_date_week_number        119390 non-null  int64  \n",
      " 6   arrival_date_day_of_month       119390 non-null  int64  \n",
      " 7   stays_in_weekend_nights         119390 non-null  int64  \n",
      " 8   stays_in_week_nights            119390 non-null  int64  \n",
      " 9   adults                          119390 non-null  int64  \n",
      " 10  children                        119386 non-null  float64\n",
      " 11  babies                          119390 non-null  int64  \n",
      " 12  meal                            119390 non-null  object \n",
      " 13  country                         118902 non-null  object \n",
      " 14  market_segment                  119390 non-null  object \n",
      " 15  distribution_channel            119390 non-null  object \n",
      " 16  is_repeated_guest               119390 non-null  int64  \n",
      " 17  previous_cancellations          119390 non-null  int64  \n",
      " 18  previous_bookings_not_canceled  119390 non-null  int64  \n",
      " 19  reserved_room_type              119390 non-null  object \n",
      " 20  assigned_room_type              119390 non-null  object \n",
      " 21  booking_changes                 119390 non-null  int64  \n",
      " 22  deposit_type                    119390 non-null  object \n",
      " 23  agent                           103050 non-null  float64\n",
      " 24  company                         6797 non-null    float64\n",
      " 25  days_in_waiting_list            119390 non-null  int64  \n",
      " 26  customer_type                   119390 non-null  object \n",
      " 27  adr                             119390 non-null  float64\n",
      " 28  required_car_parking_spaces     119390 non-null  int64  \n",
      " 29  total_of_special_requests       119390 non-null  int64  \n",
      " 30  reservation_status              119390 non-null  object \n",
      " 31  reservation_status_date         119390 non-null  object \n",
      "dtypes: float64(4), int64(16), object(12)\n",
      "memory usage: 29.1+ MB\n"
     ]
    }
   ],
   "source": [
    "train.info()"
   ]
  },
  {
   "cell_type": "markdown",
   "metadata": {},
   "source": [
    "# Data Selection using Train Test Split"
   ]
  },
  {
   "cell_type": "code",
   "execution_count": 25,
   "metadata": {},
   "outputs": [],
   "source": [
    "from sklearn.model_selection import train_test_split\n",
    "X_train, X_test, y_train, y_test = train_test_split(data_analisis.drop(labels=['is_canceled', 'stays_in_weekend_nights', 'stays_in_week_nights', 'company', 'required_car_parking_spaces', 'total_of_special_requests', 'reservation_status', 'reservation_status_date', 'Reservasi'],axis=1), data_analisis['is_canceled'], test_size=0.3, random_state=101)"
   ]
  },
  {
   "cell_type": "code",
   "execution_count": 26,
   "metadata": {},
   "outputs": [],
   "source": [
    "from sklearn.metrics import classification_report,confusion_matrix\n",
    "from sklearn.model_selection import cross_val_score\n",
    "X = data_analisis.drop(labels=['is_canceled', 'stays_in_weekend_nights', 'stays_in_week_nights', 'company', 'required_car_parking_spaces', 'total_of_special_requests', 'reservation_status', 'reservation_status_date', 'Reservasi'],axis=1)\n",
    "y = data_analisis['is_canceled']"
   ]
  },
  {
   "cell_type": "markdown",
   "metadata": {},
   "source": [
    "## 1. Logistic Regression"
   ]
  },
  {
   "cell_type": "code",
   "execution_count": 27,
   "metadata": {},
   "outputs": [
    {
     "name": "stderr",
     "output_type": "stream",
     "text": [
      "C:\\Users\\Rizki Prastyo\\AppData\\Local\\Continuum\\anaconda3\\lib\\site-packages\\sklearn\\linear_model\\logistic.py:432: FutureWarning: Default solver will be changed to 'lbfgs' in 0.22. Specify a solver to silence this warning.\n",
      "  FutureWarning)\n"
     ]
    },
    {
     "name": "stdout",
     "output_type": "stream",
     "text": [
      "[[20427  2165]\n",
      " [ 4819  8406]]\n",
      "\n",
      "\n",
      "              precision    recall  f1-score   support\n",
      "\n",
      "           0       0.81      0.90      0.85     22592\n",
      "           1       0.80      0.64      0.71     13225\n",
      "\n",
      "    accuracy                           0.81     35817\n",
      "   macro avg       0.80      0.77      0.78     35817\n",
      "weighted avg       0.80      0.81      0.80     35817\n",
      "\n"
     ]
    }
   ],
   "source": [
    "from sklearn.linear_model import LogisticRegression\n",
    "logreg = LogisticRegression()\n",
    "logreg.fit(X_train,y_train)\n",
    "logreg_pred = logreg.predict(X_test)\n",
    "print(confusion_matrix(y_test,logreg_pred))\n",
    "print('\\n')\n",
    "print(classification_report(y_test,logreg_pred))"
   ]
  },
  {
   "cell_type": "code",
   "execution_count": 28,
   "metadata": {},
   "outputs": [
    {
     "name": "stderr",
     "output_type": "stream",
     "text": [
      "C:\\Users\\Rizki Prastyo\\AppData\\Local\\Continuum\\anaconda3\\lib\\site-packages\\sklearn\\linear_model\\logistic.py:432: FutureWarning: Default solver will be changed to 'lbfgs' in 0.22. Specify a solver to silence this warning.\n",
      "  FutureWarning)\n",
      "C:\\Users\\Rizki Prastyo\\AppData\\Local\\Continuum\\anaconda3\\lib\\site-packages\\sklearn\\linear_model\\logistic.py:432: FutureWarning: Default solver will be changed to 'lbfgs' in 0.22. Specify a solver to silence this warning.\n",
      "  FutureWarning)\n",
      "C:\\Users\\Rizki Prastyo\\AppData\\Local\\Continuum\\anaconda3\\lib\\site-packages\\sklearn\\linear_model\\logistic.py:432: FutureWarning: Default solver will be changed to 'lbfgs' in 0.22. Specify a solver to silence this warning.\n",
      "  FutureWarning)\n",
      "C:\\Users\\Rizki Prastyo\\AppData\\Local\\Continuum\\anaconda3\\lib\\site-packages\\sklearn\\linear_model\\logistic.py:432: FutureWarning: Default solver will be changed to 'lbfgs' in 0.22. Specify a solver to silence this warning.\n",
      "  FutureWarning)\n",
      "C:\\Users\\Rizki Prastyo\\AppData\\Local\\Continuum\\anaconda3\\lib\\site-packages\\sklearn\\linear_model\\logistic.py:432: FutureWarning: Default solver will be changed to 'lbfgs' in 0.22. Specify a solver to silence this warning.\n",
      "  FutureWarning)\n"
     ]
    },
    {
     "name": "stdout",
     "output_type": "stream",
     "text": [
      "[0.70224884 0.54828713 0.69000754 0.51964151 0.59685053]\n"
     ]
    }
   ],
   "source": [
    "print(cross_val_score(logreg, X, y, cv=5))"
   ]
  },
  {
   "cell_type": "markdown",
   "metadata": {},
   "source": [
    "## 2. Naive Bayes"
   ]
  },
  {
   "cell_type": "code",
   "execution_count": 29,
   "metadata": {},
   "outputs": [
    {
     "name": "stdout",
     "output_type": "stream",
     "text": [
      "[[ 4701 17891]\n",
      " [  678 12547]]\n",
      "\n",
      "\n",
      "              precision    recall  f1-score   support\n",
      "\n",
      "           0       0.87      0.21      0.34     22592\n",
      "           1       0.41      0.95      0.57     13225\n",
      "\n",
      "    accuracy                           0.48     35817\n",
      "   macro avg       0.64      0.58      0.46     35817\n",
      "weighted avg       0.70      0.48      0.42     35817\n",
      "\n"
     ]
    }
   ],
   "source": [
    "from sklearn.naive_bayes import GaussianNB\n",
    "naive = GaussianNB()\n",
    "naive.fit(X_train,y_train)\n",
    "naive_pred = naive.predict(X_test)\n",
    "from sklearn.metrics import classification_report,confusion_matrix\n",
    "print(confusion_matrix(y_test,naive_pred))\n",
    "print('\\n')\n",
    "print(classification_report(y_test,naive_pred))"
   ]
  },
  {
   "cell_type": "code",
   "execution_count": 30,
   "metadata": {},
   "outputs": [
    {
     "name": "stdout",
     "output_type": "stream",
     "text": [
      "[0.52108547 0.44827875 0.44304381 0.44471899 0.43694769]\n"
     ]
    }
   ],
   "source": [
    "print(cross_val_score(naive, X, y, cv=5))"
   ]
  },
  {
   "cell_type": "markdown",
   "metadata": {},
   "source": [
    "## 3. Bagging Classifier"
   ]
  },
  {
   "cell_type": "code",
   "execution_count": 31,
   "metadata": {},
   "outputs": [
    {
     "name": "stdout",
     "output_type": "stream",
     "text": [
      "[[20686  1906]\n",
      " [ 3074 10151]]\n",
      "\n",
      "\n",
      "              precision    recall  f1-score   support\n",
      "\n",
      "           0       0.87      0.92      0.89     22592\n",
      "           1       0.84      0.77      0.80     13225\n",
      "\n",
      "    accuracy                           0.86     35817\n",
      "   macro avg       0.86      0.84      0.85     35817\n",
      "weighted avg       0.86      0.86      0.86     35817\n",
      "\n"
     ]
    }
   ],
   "source": [
    "from sklearn.ensemble import BaggingClassifier\n",
    "BC = BaggingClassifier(random_state=0)\n",
    "BC.fit(X_train,y_train)\n",
    "BC_pred = BC.predict(X_test)\n",
    "print(confusion_matrix(y_test,BC_pred))\n",
    "print('\\n')\n",
    "print(classification_report(y_test,BC_pred))"
   ]
  },
  {
   "cell_type": "code",
   "execution_count": 32,
   "metadata": {},
   "outputs": [
    {
     "name": "stdout",
     "output_type": "stream",
     "text": [
      "[0.62322543 0.53840355 0.47792947 0.46670575 0.5384261 ]\n"
     ]
    }
   ],
   "source": [
    "print(cross_val_score(BC, X, y, cv=5))"
   ]
  },
  {
   "cell_type": "markdown",
   "metadata": {},
   "source": [
    "## 4. Random Forest Classifier"
   ]
  },
  {
   "cell_type": "code",
   "execution_count": 51,
   "metadata": {},
   "outputs": [
    {
     "name": "stdout",
     "output_type": "stream",
     "text": [
      "Confussion Matrix\n",
      "[[20469  2123]\n",
      " [ 2931 10294]]\n",
      "\n",
      "\n",
      "Classification Matrix\n",
      "              precision    recall  f1-score   support\n",
      "\n",
      "           0       0.87      0.91      0.89     22592\n",
      "           1       0.83      0.78      0.80     13225\n",
      "\n",
      "    accuracy                           0.86     35817\n",
      "   macro avg       0.85      0.84      0.85     35817\n",
      "weighted avg       0.86      0.86      0.86     35817\n",
      "\n"
     ]
    }
   ],
   "source": [
    "from sklearn.ensemble import RandomForestClassifier\n",
    "rfc = RandomForestClassifier(n_estimators=10)\n",
    "from sklearn.model_selection import train_test_split\n",
    "rfc.fit(X_train,y_train)\n",
    "rfc_pred = rfc.predict(X_test)\n",
    "from sklearn.metrics import classification_report,confusion_matrix\n",
    "print('Confussion Matrix')\n",
    "print(confusion_matrix(y_test,rfc_pred))\n",
    "print('\\n')\n",
    "print('Classification Matrix')\n",
    "print(classification_report(y_test,rfc_pred))"
   ]
  },
  {
   "cell_type": "code",
   "execution_count": 52,
   "metadata": {},
   "outputs": [
    {
     "name": "stdout",
     "output_type": "stream",
     "text": [
      "[0.68252439 0.7478432  0.75596784 0.73996985 0.73329983]\n"
     ]
    }
   ],
   "source": [
    "print(cross_val_score(rfc, X, y, cv=5))"
   ]
  },
  {
   "cell_type": "markdown",
   "metadata": {},
   "source": [
    "## 5. Decision Tree Classifier"
   ]
  },
  {
   "cell_type": "code",
   "execution_count": 53,
   "metadata": {},
   "outputs": [
    {
     "name": "stdout",
     "output_type": "stream",
     "text": [
      "[[19852  2740]\n",
      " [ 2839 10386]]\n",
      "\n",
      "\n",
      "              precision    recall  f1-score   support\n",
      "\n",
      "           0       0.87      0.88      0.88     22592\n",
      "           1       0.79      0.79      0.79     13225\n",
      "\n",
      "    accuracy                           0.84     35817\n",
      "   macro avg       0.83      0.83      0.83     35817\n",
      "weighted avg       0.84      0.84      0.84     35817\n",
      "\n"
     ]
    }
   ],
   "source": [
    "from sklearn.tree import DecisionTreeClassifier\n",
    "dtc = DecisionTreeClassifier(random_state=0)\n",
    "dtc.fit(X_train,y_train)\n",
    "dtc_pred = dtc.predict(X_test)\n",
    "print(confusion_matrix(y_test,dtc_pred))\n",
    "print('\\n')\n",
    "print(classification_report(y_test,dtc_pred))"
   ]
  },
  {
   "cell_type": "code",
   "execution_count": 54,
   "metadata": {},
   "outputs": [
    {
     "name": "stdout",
     "output_type": "stream",
     "text": [
      "[0.67917417 0.71400452 0.71337633 0.71128235 0.72182435]\n"
     ]
    }
   ],
   "source": [
    "print(cross_val_score(dtc, X, y, cv=5))"
   ]
  },
  {
   "cell_type": "markdown",
   "metadata": {},
   "source": [
    "## 6. Gradient Boosting Classifier"
   ]
  },
  {
   "cell_type": "code",
   "execution_count": 55,
   "metadata": {},
   "outputs": [
    {
     "name": "stdout",
     "output_type": "stream",
     "text": [
      "[[20560  2032]\n",
      " [ 3573  9652]]\n",
      "\n",
      "\n",
      "              precision    recall  f1-score   support\n",
      "\n",
      "           0       0.85      0.91      0.88     22592\n",
      "           1       0.83      0.73      0.77     13225\n",
      "\n",
      "    accuracy                           0.84     35817\n",
      "   macro avg       0.84      0.82      0.83     35817\n",
      "weighted avg       0.84      0.84      0.84     35817\n",
      "\n"
     ]
    }
   ],
   "source": [
    "from sklearn.ensemble import GradientBoostingClassifier\n",
    "gbc = GradientBoostingClassifier(random_state=0)\n",
    "gbc.fit(X_train,y_train)\n",
    "gbc_pred = gbc.predict(X_test)\n",
    "print(confusion_matrix(y_test,gbc_pred))\n",
    "print('\\n')\n",
    "print(classification_report(y_test,gbc_pred))"
   ]
  },
  {
   "cell_type": "code",
   "execution_count": 56,
   "metadata": {},
   "outputs": [
    {
     "name": "stdout",
     "output_type": "stream",
     "text": [
      "[0.70832112 0.7841109  0.80948991 0.82825195 0.83699795]\n"
     ]
    }
   ],
   "source": [
    "print(cross_val_score(gbc, X, y, cv=5))"
   ]
  },
  {
   "cell_type": "markdown",
   "metadata": {},
   "source": [
    "## 7. Ada Boost Classifier"
   ]
  },
  {
   "cell_type": "code",
   "execution_count": 57,
   "metadata": {},
   "outputs": [
    {
     "name": "stdout",
     "output_type": "stream",
     "text": [
      "[[20653  1939]\n",
      " [ 4455  8770]]\n",
      "\n",
      "\n",
      "              precision    recall  f1-score   support\n",
      "\n",
      "           0       0.82      0.91      0.87     22592\n",
      "           1       0.82      0.66      0.73     13225\n",
      "\n",
      "    accuracy                           0.82     35817\n",
      "   macro avg       0.82      0.79      0.80     35817\n",
      "weighted avg       0.82      0.82      0.82     35817\n",
      "\n"
     ]
    }
   ],
   "source": [
    "from sklearn.ensemble import AdaBoostClassifier\n",
    "abc = AdaBoostClassifier(random_state=0)\n",
    "abc.fit(X_train,y_train)\n",
    "abc_pred = abc.predict(X_test)\n",
    "print(confusion_matrix(y_test,abc_pred))\n",
    "print('\\n')\n",
    "print(classification_report(y_test,abc_pred))"
   ]
  },
  {
   "cell_type": "code",
   "execution_count": 58,
   "metadata": {},
   "outputs": [
    {
     "name": "stdout",
     "output_type": "stream",
     "text": [
      "[0.7259098  0.79713544 0.79784739 0.79822431 0.82359593]\n"
     ]
    }
   ],
   "source": [
    "print(cross_val_score(abc, X, y, cv=5))"
   ]
  },
  {
   "cell_type": "code",
   "execution_count": null,
   "metadata": {},
   "outputs": [],
   "source": []
  }
 ],
 "metadata": {
  "kernelspec": {
   "display_name": "Python 3",
   "language": "python",
   "name": "python3"
  },
  "language_info": {
   "codemirror_mode": {
    "name": "ipython",
    "version": 3
   },
   "file_extension": ".py",
   "mimetype": "text/x-python",
   "name": "python",
   "nbconvert_exporter": "python",
   "pygments_lexer": "ipython3",
   "version": "3.7.1"
  }
 },
 "nbformat": 4,
 "nbformat_minor": 2
}
